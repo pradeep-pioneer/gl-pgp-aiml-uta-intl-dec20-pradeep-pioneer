{
 "cells": [
  {
   "cell_type": "markdown",
   "metadata": {},
   "source": [
    "# NumPy Intro"
   ]
  },
  {
   "cell_type": "code",
   "execution_count": 11,
   "metadata": {},
   "outputs": [
    {
     "name": "stdout",
     "output_type": "stream",
     "text": [
      "3.142857142857143\n",
      "3.141592653589793\n",
      "-1.0\n",
      "8.0\n",
      "4.605170185988092\n",
      "22026.465794806718\n",
      "5.2\n"
     ]
    }
   ],
   "source": [
    "import numpy as np\n",
    "pi = 22/7\n",
    "print(pi)\n",
    "print(np.pi)\n",
    "print(np.cos(np.pi))\n",
    "print(np.sqrt(64))\n",
    "print(np.log(100))\n",
    "print(np.exp(10))\n",
    "print(np.log(np.exp(5.2)))"
   ]
  },
  {
   "cell_type": "code",
   "execution_count": 9,
   "metadata": {},
   "outputs": [
    {
     "name": "stdout",
     "output_type": "stream",
     "text": [
      "Vector: [1 2 3]\n",
      "\n",
      "Matrix:\n",
      "[[1 2 3]\n",
      " [4 5 6]\n",
      " [7 8 9]]\n",
      "\n",
      "matrix.T: [[1 4 7]\n",
      " [2 5 8]\n",
      " [3 6 9]]\n"
     ]
    }
   ],
   "source": [
    "vector = np.array([1,2,3])\n",
    "print(f'Vector: {vector}')\n",
    "matrix = np.array([[1,2,3], [4,5,6], [7,8,9]])\n",
    "print(f'\\nMatrix:\\n{matrix}')\n",
    "print(f'\\nmatrix.T: {matrix.T}')"
   ]
  },
  {
   "cell_type": "code",
   "execution_count": 17,
   "metadata": {},
   "outputs": [
    {
     "name": "stdout",
     "output_type": "stream",
     "text": [
      "Vector2: [ 0  1  2  3  4  5  6  7  8  9 10 11 12 13 14]\n",
      "Vector3: [ 3  9 15 21]\n"
     ]
    }
   ],
   "source": [
    "vector2 = np.arange(0,15)\n",
    "print(f'Vector2: {vector2}')\n",
    "vector3 = np.arange(3,22,6)\n",
    "print(f'Vector3: {vector3}')"
   ]
  },
  {
   "cell_type": "code",
   "execution_count": 22,
   "metadata": {},
   "outputs": [
    {
     "name": "stdout",
     "output_type": "stream",
     "text": [
      "181.27224187515122\n",
      "181.27195459148558\n"
     ]
    }
   ],
   "source": [
    "print(np.exp(5.2))\n",
    "print(pow(2.718281,5.2))"
   ]
  },
  {
   "cell_type": "code",
   "execution_count": 26,
   "metadata": {},
   "outputs": [
    {
     "name": "stdout",
     "output_type": "stream",
     "text": [
      "Matrix1: [list([1, 2, 3]) list([4, 5, 6]) list([7, 8, 9, 0])]\n"
     ]
    },
    {
     "name": "stderr",
     "output_type": "stream",
     "text": [
      "C:\\ProgramData\\Miniconda3\\envs\\gl-tensorflow-gpu\\lib\\site-packages\\ipykernel_launcher.py:1: VisibleDeprecationWarning: Creating an ndarray from ragged nested sequences (which is a list-or-tuple of lists-or-tuples-or ndarrays with different lengths or shapes) is deprecated. If you meant to do this, you must specify 'dtype=object' when creating the ndarray\n",
      "  \"\"\"Entry point for launching an IPython kernel.\n"
     ]
    }
   ],
   "source": [
    "matrix1 = np.array([[1,2,3], [4,5,6], [7,8,9,0]])\n",
    "print(f'Matrix1: {matrix1}')"
   ]
  },
  {
   "cell_type": "code",
   "execution_count": 48,
   "metadata": {},
   "outputs": [
    {
     "name": "stdout",
     "output_type": "stream",
     "text": [
      "\n",
      "linear_vector:\n",
      "[0.         0.55555556 1.11111111 1.66666667 2.22222222 2.77777778\n",
      " 3.33333333 3.88888889 4.44444444 5.        ]\n",
      "\n",
      "linear_tested_vector:\n",
      "[0.0, 0.5555555555555556, 1.1111111111111112, 1.6666666666666667, 2.2222222222222223, 2.7777777777777777, 3.3333333333333335, 3.8888888888888893, 4.444444444444445, 5.0]\n",
      "\n",
      "linear_vector_reshaped:\n",
      "[[0.         0.55555556]\n",
      " [1.11111111 1.66666667]\n",
      " [2.22222222 2.77777778]\n",
      " [3.33333333 3.88888889]\n",
      " [4.44444444 5.        ]]\n",
      "\n",
      "linear_tested_vector_reshaped:\n",
      "[[0.         0.55555556 1.11111111 1.66666667 2.22222222]\n",
      " [2.77777778 3.33333333 3.88888889 4.44444444 5.        ]]\n"
     ]
    }
   ],
   "source": [
    "linear_vector = np.linspace(0,5,10)\n",
    "linear_tested_vector = [0*(5/9), 1*(5/9), 2*(5/9), 3*(5/9), 4*(5/9), 5*(5/9), 6*(5/9), 7*(5/9), 8*(5/9), 9*(5/9)]\n",
    "print(f'\\nlinear_vector:\\n{linear_vector}')\n",
    "print(f'\\nlinear_tested_vector:\\n{linear_tested_vector}')\n",
    "linear_vector_reshaped = linear_vector.reshape(5,2)\n",
    "print(f'\\nlinear_vector_reshaped:\\n{linear_vector_reshaped}')\n",
    "\n",
    "linear_tested_vector_reshaped = np.array(linear_tested_vector).reshape(2,5)\n",
    "print(f'\\nlinear_tested_vector_reshaped:\\n{linear_tested_vector_reshaped}')"
   ]
  },
  {
   "cell_type": "code",
   "execution_count": 43,
   "metadata": {},
   "outputs": [
    {
     "name": "stdout",
     "output_type": "stream",
     "text": [
      "\n",
      "matrix2:\n",
      "[[0. 0. 0.]\n",
      " [0. 0. 0.]\n",
      " [0. 0. 0.]\n",
      " [0. 0. 0.]\n",
      " [0. 0. 0.]]\n",
      "\n",
      "matrix3:\n",
      "[[1. 1. 1. 1. 1.]\n",
      " [1. 1. 1. 1. 1.]\n",
      " [1. 1. 1. 1. 1.]]\n",
      "\n",
      "matrix4:\n",
      "[[1. 0. 0. 0. 0.]\n",
      " [0. 1. 0. 0. 0.]\n",
      " [0. 0. 1. 0. 0.]\n",
      " [0. 0. 0. 1. 0.]\n",
      " [0. 0. 0. 0. 1.]]\n"
     ]
    }
   ],
   "source": [
    "matrix2 = np.zeros([5,3])\n",
    "print(f'\\nmatrix2:\\n{matrix2}')\n",
    "matrix3 = np.ones([3,5])\n",
    "print(f'\\nmatrix3:\\n{matrix3}')\n",
    "matrix4 = np.eye(5)\n",
    "print(f'\\nmatrix4:\\n{matrix4}')"
   ]
  },
  {
   "cell_type": "markdown",
   "metadata": {},
   "source": [
    "# Arithmatic"
   ]
  },
  {
   "cell_type": "code",
   "execution_count": 47,
   "metadata": {},
   "outputs": [
    {
     "name": "stdout",
     "output_type": "stream",
     "text": [
      "\n",
      "first_vector:\n",
      "[1 2 3 4 5]\n",
      "\n",
      "second_vector:\n",
      "[3 4 5 6 7]\n",
      "\n",
      "vector_sum:\n",
      "[ 4  6  8 10 12]\n",
      "\n",
      "vector_product:\n",
      "[ 3  8 15 24 35]\n",
      "\n",
      "vector_diff:\n",
      "[-2 -2 -2 -2 -2]\n",
      "\n",
      "vector_div:\n",
      "[ 4  6  8 10 12]\n",
      "\n",
      "one_over_first_vector:\n",
      "[1.         0.5        0.33333333 0.25       0.2       ]\n",
      "\n",
      "second_vector_sqrt:\n",
      "[1.73205081 2.         2.23606798 2.44948974 2.64575131]\n"
     ]
    }
   ],
   "source": [
    "first_vector = np.arange(1,6)\n",
    "second_vector = np.arange(3,8)\n",
    "vector_sum = first_vector + second_vector\n",
    "vector_product = first_vector * second_vector\n",
    "vector_diff = first_vector - second_vector\n",
    "vector_div = first_vector + second_vector\n",
    "\n",
    "one_over_first_vector = 1/first_vector\n",
    "second_vector_sqrt = np.sqrt(second_vector)\n",
    "\n",
    "print(f'\\nfirst_vector:\\n{first_vector}')\n",
    "print(f'\\nsecond_vector:\\n{second_vector}')\n",
    "print(f'\\nvector_sum:\\n{vector_sum}')\n",
    "print(f'\\nvector_product:\\n{vector_product}')\n",
    "print(f'\\nvector_diff:\\n{vector_diff}')\n",
    "print(f'\\nvector_div:\\n{vector_div}')\n",
    "print(f'\\none_over_first_vector:\\n{one_over_first_vector}')\n",
    "print(f'\\nsecond_vector_sqrt:\\n{second_vector_sqrt}')"
   ]
  },
  {
   "cell_type": "code",
   "execution_count": 57,
   "metadata": {},
   "outputs": [
    {
     "name": "stdout",
     "output_type": "stream",
     "text": [
      "\n",
      "five_by_two_times_two_by_five:\n",
      "[[ 1.54320988  1.85185185  2.16049383  2.4691358   2.77777778]\n",
      " [ 4.62962963  6.17283951  7.71604938  9.25925926 10.80246914]\n",
      " [ 7.71604938 10.49382716 13.27160494 16.04938272 18.82716049]\n",
      " [10.80246914 14.81481481 18.82716049 22.83950617 26.85185185]\n",
      " [13.88888889 19.13580247 24.38271605 29.62962963 34.87654321]]\n",
      "\n",
      "one_by_one_times_one_by_one:\n",
      "85\n",
      "\n",
      "Vector:\n",
      "[1 2 3]\n",
      "\n",
      "Matrix:\n",
      "[[1 2 3]\n",
      " [4 5 6]\n",
      " [7 8 9]]\n",
      "\n",
      "matrix_times_vector:\n",
      "[14 32 50]\n"
     ]
    }
   ],
   "source": [
    "# this will throw error\n",
    "# five_by_two_times_two_by_five = linear_vector_reshaped * linear_tested_vector_reshaped\n",
    "five_by_two_times_two_by_five = np.matmul(linear_vector_reshaped, linear_tested_vector_reshaped)\n",
    "print(f'\\nfive_by_two_times_two_by_five:\\n{five_by_two_times_two_by_five}')\n",
    "# results in a matrix of size 5X5\n",
    "\n",
    "# can also multiply vectors\n",
    "one_by_one_times_one_by_one = np.matmul(first_vector, second_vector)\n",
    "# -> Multiply each element in the first vector with the element at same index in second vector and then sum all elements\n",
    "print(f'\\none_by_one_times_one_by_one:\\n{one_by_one_times_one_by_one}')\n",
    "\n",
    "# can multiply matrix with vector\n",
    "print(f'\\nVector:\\n{vector}')\n",
    "print(f'\\nMatrix:\\n{matrix}')\n",
    "matrix_times_vector = np.matmul(matrix, vector)\n",
    "print(f'\\nmatrix_times_vector:\\n{matrix_times_vector}')"
   ]
  },
  {
   "cell_type": "code",
   "execution_count": 61,
   "metadata": {},
   "outputs": [
    {
     "name": "stdout",
     "output_type": "stream",
     "text": [
      "\n",
      "Vector:\n",
      "[1 2 3]\n",
      "\n",
      "deduced_vector:\n",
      "[1. 2. 3.]\n"
     ]
    }
   ],
   "source": [
    "# solve matrix -> find solution\n",
    "actual_matrix = np.array([[1,2,1],[4,5,9], [1,8,9]])\n",
    "actual_vector = np.array([1,2,3])\n",
    "actual_product = np.matmul(actual_matrix, actual_vector)\n",
    "\n",
    "deduced_vector = np.linalg.solve(actual_matrix, actual_product)\n",
    "print(f'\\nVector:\\n{actual_vector}')\n",
    "print(f'\\ndeduced_vector:\\n{deduced_vector}')"
   ]
  },
  {
   "cell_type": "code",
   "execution_count": 63,
   "metadata": {},
   "outputs": [
    {
     "name": "stdout",
     "output_type": "stream",
     "text": [
      "\n",
      "actual_matrix:\n",
      "[[1 2 1]\n",
      " [4 5 9]\n",
      " [1 8 9]]\n",
      "\n",
      "actual_matrix inverse:\n",
      "[[ 0.5         0.18518519 -0.24074074]\n",
      " [ 0.5        -0.14814815  0.09259259]\n",
      " [-0.5         0.11111111  0.05555556]]\n"
     ]
    }
   ],
   "source": [
    "# get inverse of a matrix\n",
    "print(f'\\nactual_matrix:\\n{actual_matrix}')\n",
    "print(f'\\nactual_matrix inverse:\\n{np.linalg.inv(actual_matrix)}')"
   ]
  },
  {
   "cell_type": "code",
   "execution_count": 65,
   "metadata": {},
   "outputs": [
    {
     "name": "stdout",
     "output_type": "stream",
     "text": [
      "\n",
      "vector_colours:\n",
      "['blue' 'orange' 'green' 'red' 'blue' 'purple' 'purple' 'red' 'orange']\n",
      "\n",
      "vector_colours unique:\n",
      "['blue' 'green' 'orange' 'purple' 'red']\n"
     ]
    }
   ],
   "source": [
    "# remove duplicates\n",
    "vector_colours = np.array(['blue', 'orange', 'green', 'red', 'blue', 'purple', 'purple', 'red', 'orange'])\n",
    "print(f'\\nvector_colours:\\n{vector_colours}')\n",
    "print(f'\\nvector_colours unique:\\n{np.unique(vector_colours)}')"
   ]
  },
  {
   "cell_type": "code",
   "execution_count": 69,
   "metadata": {},
   "outputs": [
    {
     "name": "stdout",
     "output_type": "stream",
     "text": [
      "\n",
      "uniform_random_matrix:\n",
      "[[0.51214302 0.45964874 0.0703816  0.93068196 0.36844527]\n",
      " [0.39766034 0.1473326  0.0045609  0.88145419 0.96436768]\n",
      " [0.89206427 0.46118778 0.47851579 0.79615952 0.57761426]\n",
      " [0.59235892 0.65692585 0.84988056 0.20540321 0.95014532]\n",
      " [0.54954705 0.55849437 0.96268244 0.43943926 0.81189726]]\n",
      "\n",
      "standard_random_matrix:\n",
      "[[-1.40698078  0.4130055   0.30616193  0.22813415  0.47359563]\n",
      " [ 1.5707914   0.15153089  1.16260046  0.15726402 -1.5032177 ]\n",
      " [-1.5458265  -0.76376059  0.32900084 -0.89572343  1.54120122]\n",
      " [ 0.18850965 -0.85034592  0.79248656  1.46563585 -0.11523214]\n",
      " [-0.94826819 -0.53004169  0.58436821  1.23073745 -1.0038742 ]\n",
      " [-0.81235033  0.43281663 -0.55569427  0.06829425  2.43122806]\n",
      " [-2.26425087 -0.58084274  0.85796134 -0.15719733  0.98568314]\n",
      " [ 2.02149408  0.31723115  3.60543368 -0.34393257  0.50623105]\n",
      " [ 0.18744716  0.21297089  1.59800409 -0.27450414  0.92099129]\n",
      " [ 0.10105079  0.20450117 -1.35513507 -0.25351719  0.62758817]\n",
      " [-0.85021838  0.62280763  0.03954605 -0.46788426  0.33177929]\n",
      " [-0.08444224 -0.96219105 -0.25888956 -0.6721216   0.73247079]\n",
      " [ 1.10289395 -2.16468436 -1.28108214 -1.04791973  0.9706697 ]\n",
      " [-0.03115651  0.6757806  -0.13991928 -0.11016713 -0.17094458]\n",
      " [-1.31504743 -0.03609192  0.82391494 -1.46674004 -0.78991638]]\n"
     ]
    }
   ],
   "source": [
    "uniform_random_matrix = np.random.rand(5,5)\n",
    "standard_random_matrix = np.random.randn(15,5)\n",
    "print(f'\\nuniform_random_matrix:\\n{uniform_random_matrix}')\n",
    "print(f'\\nstandard_random_matrix:\\n{standard_random_matrix}')"
   ]
  },
  {
   "cell_type": "code",
   "execution_count": 71,
   "metadata": {},
   "outputs": [
    {
     "name": "stdout",
     "output_type": "stream",
     "text": [
      "uniform_random_matrix mean:0.5807596870108386\n",
      "uniform_random_matrix std:0.2816271663338159\n",
      "\n",
      "standard_random_matrix mean:0.03951601878938953\n",
      "standard_random_matrix std:1.0252172559819113\n",
      "\n",
      "uniform_random_matrix min:0.00456089657270764\n",
      "uniform_random_matrix max:0.9643676796945806\n",
      "\n",
      "standard_random_matrix min:-2.2642508739463816\n",
      "standard_random_matrix max:3.6054336829035316\n"
     ]
    }
   ],
   "source": [
    "print(f'uniform_random_matrix mean:{np.mean(uniform_random_matrix)}')\n",
    "print(f'uniform_random_matrix std:{np.std(uniform_random_matrix)}')\n",
    "\n",
    "print(f'\\nstandard_random_matrix mean:{np.mean(standard_random_matrix)}')\n",
    "print(f'standard_random_matrix std:{np.std(standard_random_matrix)}')\n",
    "\n",
    "print(f'\\nuniform_random_matrix min:{np.min(uniform_random_matrix)}')\n",
    "print(f'uniform_random_matrix max:{np.max(uniform_random_matrix)}')\n",
    "\n",
    "print(f'\\nstandard_random_matrix min:{np.min(standard_random_matrix)}')\n",
    "print(f'standard_random_matrix max:{np.max(standard_random_matrix)}')"
   ]
  }
 ],
 "metadata": {
  "kernelspec": {
   "display_name": "GL-Python-3.7 (tensorflow-gpu)",
   "language": "python",
   "name": "gl-tensorflow-gpu"
  },
  "language_info": {
   "codemirror_mode": {
    "name": "ipython",
    "version": 3
   },
   "file_extension": ".py",
   "mimetype": "text/x-python",
   "name": "python",
   "nbconvert_exporter": "python",
   "pygments_lexer": "ipython3",
   "version": "3.7.9"
  }
 },
 "nbformat": 4,
 "nbformat_minor": 4
}
