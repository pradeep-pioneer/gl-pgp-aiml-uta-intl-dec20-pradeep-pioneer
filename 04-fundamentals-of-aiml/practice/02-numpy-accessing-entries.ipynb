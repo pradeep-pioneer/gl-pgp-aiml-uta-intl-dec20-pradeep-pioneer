{
 "cells": [
  {
   "cell_type": "markdown",
   "metadata": {},
   "source": [
    "# NumPy element access"
   ]
  },
  {
   "cell_type": "code",
   "execution_count": 1,
   "metadata": {},
   "outputs": [],
   "source": [
    "import numpy as np\n",
    "random_vector = np.random.randn(19)\n",
    "random_matrix = np.random.randn(5,5)"
   ]
  },
  {
   "cell_type": "code",
   "execution_count": 2,
   "metadata": {},
   "outputs": [
    {
     "name": "stdout",
     "output_type": "stream",
     "text": [
      "random_vector: [-0.57192962 -0.15556731  0.38883082 -1.61153191 -0.94313948 -0.36888787\n",
      "  0.08739737  0.09953974 -0.2567703   0.45285015 -0.72999513 -0.45628897\n",
      " -0.05188778  0.18342652 -0.29582492 -1.10817063 -1.15255925  2.66708779\n",
      " -1.39842022]\n",
      "first entry: -0.5719296182685424\n",
      "third entry: 0.3888308179337427\n",
      "first 3 entries: [-0.57192962 -0.15556731  0.38883082]\n",
      "last 3 entries: [-1.15255925  2.66708779 -1.39842022]\n",
      "last entry: [-1.39842022]\n",
      "4th (inclusive) till 9th(exlusive): [-0.94313948 -0.36888787  0.08739737  0.09953974 -0.2567703 ]\n",
      "4th last (inclusive) till 2nd(exlusive) last: [-0.29582492 -1.10817063 -1.15255925  2.66708779]\n"
     ]
    }
   ],
   "source": [
    "print(f'random_vector: {random_vector}')\n",
    "print(f'first entry: {random_vector[0]}')\n",
    "print(f'third entry: {random_vector[2]}')\n",
    "print(f'first 3 entries: {random_vector[0:3]}')\n",
    "print(f'last 3 entries: {random_vector[-3:]}')\n",
    "print(f'last entry: {random_vector[-1:]}')\n",
    "print(f'4th (inclusive) till 9th(exlusive): {random_vector[4:9]}')\n",
    "print(f'4th last (inclusive) till 2nd(exlusive) last: {random_vector[-5:-1]}')"
   ]
  },
  {
   "cell_type": "code",
   "execution_count": 3,
   "metadata": {},
   "outputs": [
    {
     "name": "stdout",
     "output_type": "stream",
     "text": [
      "Range[Lower: 0, Upper: 15, Step:3]: [ 0  3  6  9 12]\n",
      "\n",
      "random_vector[np.arange(0,15,3)]: [-0.57192962 -1.61153191  0.08739737  0.45285015 -0.05188778]\n"
     ]
    }
   ],
   "source": [
    "print(f'Range[Lower: 0, Upper: 15, Step:3]: {np.arange(0,15,3)}')\n",
    "print(f'\\nrandom_vector[np.arange(0,15,3)]: {random_vector[np.arange(0,15,3)]}')"
   ]
  },
  {
   "cell_type": "code",
   "execution_count": 4,
   "metadata": {},
   "outputs": [
    {
     "name": "stdout",
     "output_type": "stream",
     "text": [
      "random_matrix: \n",
      "[[-0.21005387 -0.57794705 -1.2324251   0.38982763  0.12706357]\n",
      " [ 0.75631088  1.93962927  0.40111324  0.38305807  0.6125571 ]\n",
      " [-1.20225694  1.74791151  1.89729881  0.24534063 -0.08369318]\n",
      " [-0.74232394 -0.21115565  0.88647515 -0.41718163 -0.56185215]\n",
      " [-0.27460038  0.1897318  -0.88678404 -1.57025556 -0.31879444]]\n"
     ]
    }
   ],
   "source": [
    "print(f'random_matrix: \\n{random_matrix}')"
   ]
  },
  {
   "cell_type": "code",
   "execution_count": 5,
   "metadata": {},
   "outputs": [
    {
     "name": "stdout",
     "output_type": "stream",
     "text": [
      "-0.5779470539396501\n",
      "0.24534062988934865\n",
      "[[-0.57794705 -1.2324251 ]\n",
      " [ 1.93962927  0.40111324]]\n"
     ]
    }
   ],
   "source": [
    "print(random_matrix[0][1]) # zeroeth row -> second column\n",
    "print(random_matrix[2][3]) # third row -> fourth column\n",
    "print(random_matrix[0:2, 1:3])"
   ]
  },
  {
   "cell_type": "code",
   "execution_count": 6,
   "metadata": {},
   "outputs": [
    {
     "name": "stdout",
     "output_type": "stream",
     "text": [
      "random_vector:\n",
      "[-0.57192962 -0.15556731  0.38883082 -1.61153191 -0.94313948 -0.36888787\n",
      "  0.08739737  0.09953974 -0.2567703   0.45285015 -0.72999513 -0.45628897\n",
      " -0.05188778  0.18342652 -0.29582492 -1.10817063 -1.15255925  2.66708779\n",
      " -1.39842022]\n",
      "\n",
      "random_vector:\n",
      "[-0.57192962 -0.15556731  0.38883082  4.          4.         -0.36888787\n",
      "  0.08739737  0.09953974 -0.2567703   0.45285015 -0.72999513 -0.45628897\n",
      " -0.05188778  0.18342652 -0.29582492 -1.10817063 -1.15255925  2.66708779\n",
      " -1.39842022]\n",
      "\n",
      "random_vector:\n",
      "[-0.57192962 -0.15556731  0.38883082  4.          5.         -0.36888787\n",
      "  0.08739737  0.09953974 -0.2567703   0.45285015 -0.72999513 -0.45628897\n",
      " -0.05188778  0.18342652 -0.29582492 -1.10817063 -1.15255925  2.66708779\n",
      " -1.39842022]\n"
     ]
    }
   ],
   "source": [
    "# mutations\n",
    "print(f'random_vector:\\n{random_vector}')\n",
    "random_vector[3:5] = [4]\n",
    "print(f'\\nrandom_vector:\\n{random_vector}')\n",
    "random_vector[3:5] = [4,5]\n",
    "print(f'\\nrandom_vector:\\n{random_vector}')"
   ]
  },
  {
   "cell_type": "code",
   "execution_count": 7,
   "metadata": {},
   "outputs": [
    {
     "name": "stdout",
     "output_type": "stream",
     "text": [
      "random_matrix: \n",
      "[[-0.21005387 -0.57794705 -1.2324251   0.38982763  0.12706357]\n",
      " [ 0.75631088  1.93962927  0.40111324  0.38305807  0.6125571 ]\n",
      " [-1.20225694  1.74791151  1.89729881  0.24534063 -0.08369318]\n",
      " [-0.74232394 -0.21115565  0.88647515 -0.41718163 -0.56185215]\n",
      " [-0.27460038  0.1897318  -0.88678404 -1.57025556 -0.31879444]]\n",
      "random_matrix: \n",
      "[[-0.21005387 -0.57794705 -1.2324251   0.38982763  0.12706357]\n",
      " [ 0.75631088  1.93962927  0.40111324  0.          0.        ]\n",
      " [-1.20225694  1.74791151  1.89729881  0.          0.        ]\n",
      " [-0.74232394 -0.21115565  0.88647515 -0.41718163 -0.56185215]\n",
      " [-0.27460038  0.1897318  -0.88678404 -1.57025556 -0.31879444]]\n"
     ]
    }
   ],
   "source": [
    "print(f'random_matrix: \\n{random_matrix}')\n",
    "random_matrix[1:3, 3:5] = 0\n",
    "print(f'random_matrix: \\n{random_matrix}')"
   ]
  },
  {
   "cell_type": "code",
   "execution_count": 8,
   "metadata": {},
   "outputs": [
    {
     "name": "stdout",
     "output_type": "stream",
     "text": [
      "sub_matrix: \n",
      "[[-0.21005387 -0.57794705 -1.2324251 ]\n",
      " [ 0.75631088  1.93962927  0.40111324]]\n",
      "sub_matrix: \n",
      "[[3. 3. 3.]\n",
      " [3. 3. 3.]]\n",
      "random_matrix: \n",
      "[[ 3.          3.          3.          0.38982763  0.12706357]\n",
      " [ 3.          3.          3.          0.          0.        ]\n",
      " [-1.20225694  1.74791151  1.89729881  0.          0.        ]\n",
      " [-0.74232394 -0.21115565  0.88647515 -0.41718163 -0.56185215]\n",
      " [-0.27460038  0.1897318  -0.88678404 -1.57025556 -0.31879444]]\n"
     ]
    }
   ],
   "source": [
    "sub_matrix = random_matrix[0:2, 0:3]\n",
    "print(f'sub_matrix: \\n{sub_matrix}')\n",
    "sub_matrix[:] = 3\n",
    "print(f'sub_matrix: \\n{sub_matrix}')\n",
    "print(f'random_matrix: \\n{random_matrix}')"
   ]
  },
  {
   "cell_type": "code",
   "execution_count": 9,
   "metadata": {},
   "outputs": [
    {
     "name": "stdout",
     "output_type": "stream",
     "text": [
      "sub_matrix_copied: \n",
      "[[3. 3. 3.]\n",
      " [3. 3. 3.]]\n",
      "sub_matrix_copied: \n",
      "[[99. 99. 99.]\n",
      " [99. 99. 99.]]\n",
      "random_matrix: \n",
      "[[ 3.          3.          3.          0.38982763  0.12706357]\n",
      " [ 3.          3.          3.          0.          0.        ]\n",
      " [-1.20225694  1.74791151  1.89729881  0.          0.        ]\n",
      " [-0.74232394 -0.21115565  0.88647515 -0.41718163 -0.56185215]\n",
      " [-0.27460038  0.1897318  -0.88678404 -1.57025556 -0.31879444]]\n"
     ]
    }
   ],
   "source": [
    "sub_matrix_copied = random_matrix[0:2, 0:3].copy()\n",
    "print(f'sub_matrix_copied: \\n{sub_matrix_copied}')\n",
    "sub_matrix_copied[:] = 99\n",
    "print(f'sub_matrix_copied: \\n{sub_matrix_copied}')\n",
    "print(f'random_matrix: \\n{random_matrix}')"
   ]
  }
 ],
 "metadata": {
  "kernelspec": {
   "display_name": "GL-Python-3.7 (tensorflow-gpu)",
   "language": "python",
   "name": "gl-tensorflow-gpu"
  },
  "language_info": {
   "codemirror_mode": {
    "name": "ipython",
    "version": 3
   },
   "file_extension": ".py",
   "mimetype": "text/x-python",
   "name": "python",
   "nbconvert_exporter": "python",
   "pygments_lexer": "ipython3",
   "version": "3.7.9"
  }
 },
 "nbformat": 4,
 "nbformat_minor": 4
}
