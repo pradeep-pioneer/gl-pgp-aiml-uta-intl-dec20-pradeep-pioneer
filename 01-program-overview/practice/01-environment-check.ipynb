{
 "cells": [
  {
   "cell_type": "markdown",
   "metadata": {},
   "source": [
    "# Environment Check\n",
    "\n",
    "This notebook helps in checking the python version along with other library versions. We also check the availability of the GPU"
   ]
  },
  {
   "cell_type": "code",
   "execution_count": 11,
   "metadata": {},
   "outputs": [
    {
     "name": "stdout",
     "output_type": "stream",
     "text": [
      "Python Version: 3.7.9 (default, Aug 31 2020, 17:10:11) [MSC v.1916 64 bit (AMD64)]\n",
      "Tensor Flow Version: 2.1.0\n",
      "Keras Version: 2.2.4-tf\n",
      "SciKit Learn Version: 0.23.2\n",
      "Pandas Version: 1.1.3\n",
      "GPU is available\n"
     ]
    }
   ],
   "source": [
    "import tensorflow as tf\n",
    "import sys # for checking the version of python\n",
    "import tensorflow.keras\n",
    "import sklearn as sklearn\n",
    "import pandas as pandas\n",
    "print(\"Python Version:\", sys.version)\n",
    "print(\"Tensor Flow Version:\", tf.__version__)\n",
    "print(\"Keras Version:\", tensorflow.keras.__version__)\n",
    "print(\"SciKit Learn Version:\", sklearn.__version__)\n",
    "print(\"Pandas Version:\", pandas.__version__)\n",
    "gpus = tf.config.list_physical_devices('GPU')\n",
    "gpustatus=\"is available\" if len(gpus)>0 else \"NOT AVAILABLE\"\n",
    "print(\"GPU\", gpustatus)"
   ]
  }
 ],
 "metadata": {
  "kernelspec": {
   "display_name": "GL-Python-3.7 (tensorflow-gpu)",
   "language": "python",
   "name": "tensorflow"
  },
  "language_info": {
   "codemirror_mode": {
    "name": "ipython",
    "version": 3
   },
   "file_extension": ".py",
   "mimetype": "text/x-python",
   "name": "python",
   "nbconvert_exporter": "python",
   "pygments_lexer": "ipython3",
   "version": "3.7.9"
  }
 },
 "nbformat": 4,
 "nbformat_minor": 4
}
