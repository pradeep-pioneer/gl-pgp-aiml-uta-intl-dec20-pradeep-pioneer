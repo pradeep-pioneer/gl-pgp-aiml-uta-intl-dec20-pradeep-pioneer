{
 "cells": [
  {
   "cell_type": "markdown",
   "metadata": {},
   "source": [
    "# Variables\n",
    "\n",
    "This notebook is the practice of concepts taught in [Intro to variables-2](https://olympus.greatlearning.in/courses/29761/pages/intro-to-variables-2?module_item_id=845447) lecture."
   ]
  },
  {
   "cell_type": "code",
   "execution_count": 10,
   "metadata": {},
   "outputs": [
    {
     "name": "stdout",
     "output_type": "stream",
     "text": [
      "value of integervariable is: 2\n",
      "type of integervariable is: <class 'int'>\n",
      "value of floatvariable is: 3.0\n",
      "type of floatvariable is: <class 'float'>\n",
      "value of floatvariable is: 2.0\n",
      "type of floatvariable is: <class 'float'>\n"
     ]
    }
   ],
   "source": [
    "integervariable = 2\n",
    "floatvariable = 3.0\n",
    "print('value of integervariable is:', integervariable)\n",
    "print('type of integervariable is:', type(integervariable))\n",
    "\n",
    "print('value of floatvariable is:', floatvariable)\n",
    "print('type of floatvariable is:', type(floatvariable))\n",
    "\n",
    "#casting ints to floats\n",
    "castedfloatvariable = float(integervariable)\n",
    "print('value of floatvariable is:', castedfloatvariable)\n",
    "print('type of floatvariable is:', type(castedfloatvariable))"
   ]
  },
  {
   "cell_type": "markdown",
   "metadata": {},
   "source": [
    "## Data types and declaration syntax\n",
    "\n",
    "In python we don't need to specify the data type when creating variables. Also the variables declaration and initialization happens in just one statement. Unlike many other programming languages it's not needed to declare a variable and then initialize it. Whenever a new name token is encountered by the python interpreter, a new variable with that name is created if it didn't already exist."
   ]
  },
  {
   "cell_type": "code",
   "execution_count": 11,
   "metadata": {},
   "outputs": [
    {
     "name": "stdout",
     "output_type": "stream",
     "text": [
      "value of thisvariabledidnotexist is: This variable now exists\n",
      "type of thisvariabledidnotexist is: <class 'str'>\n"
     ]
    }
   ],
   "source": [
    "thisvariabledidnotexist = 'This variable now exists'\n",
    "print('value of thisvariabledidnotexist is:', thisvariabledidnotexist)\n",
    "print('type of thisvariabledidnotexist is:', type(thisvariabledidnotexist))"
   ]
  },
  {
   "cell_type": "markdown",
   "metadata": {},
   "source": [
    "## Interoperability between ints and floats\n",
    "\n",
    "In python arithmatic operations between ints and floats result in the bigger/higher/more precise datatype."
   ]
  },
  {
   "cell_type": "code",
   "execution_count": 12,
   "metadata": {},
   "outputs": [
    {
     "name": "stdout",
     "output_type": "stream",
     "text": [
      "value of addedvariable is: 5.0\n",
      "type of addedvariable is: <class 'float'>\n",
      "value of substractedvariable is: -1.0\n",
      "type of substractedvariable is: <class 'float'>\n",
      "value of multipliedvariable is: 6.0\n",
      "type of multipliedvariable is: <class 'float'>\n",
      "value of dividedvariable is: 0.6666666666666666\n",
      "type of dividedvariable is: <class 'float'>\n"
     ]
    }
   ],
   "source": [
    "addedvariable = integervariable + floatvariable\n",
    "substractedvariable = integervariable - floatvariable\n",
    "multipliedvariable = integervariable * floatvariable\n",
    "dividedvariable = integervariable / floatvariable\n",
    "print('value of addedvariable is:', addedvariable)\n",
    "print('type of addedvariable is:', type(addedvariable))\n",
    "\n",
    "print('value of substractedvariable is:', substractedvariable)\n",
    "print('type of substractedvariable is:', type(substractedvariable))\n",
    "\n",
    "print('value of multipliedvariable is:', multipliedvariable)\n",
    "print('type of multipliedvariable is:', type(multipliedvariable))\n",
    "\n",
    "print('value of dividedvariable is:', dividedvariable)\n",
    "print('type of dividedvariable is:', type(dividedvariable))"
   ]
  }
 ],
 "metadata": {
  "kernelspec": {
   "display_name": "GL-Python-3.7 (tensorflow-gpu)",
   "language": "python",
   "name": "tensorflow"
  },
  "language_info": {
   "codemirror_mode": {
    "name": "ipython",
    "version": 3
   },
   "file_extension": ".py",
   "mimetype": "text/x-python",
   "name": "python",
   "nbconvert_exporter": "python",
   "pygments_lexer": "ipython3",
   "version": "3.7.9"
  }
 },
 "nbformat": 4,
 "nbformat_minor": 4
}
