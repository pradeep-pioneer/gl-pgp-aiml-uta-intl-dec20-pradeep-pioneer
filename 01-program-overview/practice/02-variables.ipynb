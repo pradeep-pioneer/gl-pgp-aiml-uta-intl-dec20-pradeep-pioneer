{
 "cells": [
  {
   "cell_type": "markdown",
   "metadata": {},
   "source": [
    "# Variables\n",
    "\n",
    "This notebook is the practice of concepts taught in [Intro to variables-2](https://olympus.greatlearning.in/courses/29761/pages/intro-to-variables-2?module_item_id=845447) lecture."
   ]
  },
  {
   "cell_type": "code",
   "execution_count": 15,
   "metadata": {},
   "outputs": [
    {
     "name": "stdout",
     "output_type": "stream",
     "text": [
      "value of integer_variable is: 2\n",
      "type of integer_variable is: <class 'int'>\n",
      "value of float_variable is: 3.0\n",
      "type of float_variable is: <class 'float'>\n",
      "value of casted_float_variable is: 2.0\n",
      "type of casted_float_variable is: <class 'float'>\n"
     ]
    }
   ],
   "source": [
    "integer_variable = 2\n",
    "float_variable = 3.0\n",
    "print('value of integer_variable is:', integer_variable)\n",
    "print('type of integer_variable is:', type(integer_variable))\n",
    "\n",
    "print('value of float_variable is:', float_variable)\n",
    "print('type of float_variable is:', type(float_variable))\n",
    "\n",
    "#casting ints to floats\n",
    "casted_float_variable = float(integer_variable)\n",
    "print('value of casted_float_variable is:', casted_float_variable)\n",
    "print('type of casted_float_variable is:', type(casted_float_variable))"
   ]
  },
  {
   "cell_type": "markdown",
   "metadata": {},
   "source": [
    "## Data types and declaration syntax\n",
    "\n",
    "In python we don't need to specify the data type when creating variables. Also the variables declaration and initialization happens in just one statement. Unlike many other programming languages it's not needed to declare a variable and then initialize it. Whenever a new name token is encountered by the python interpreter, a new variable with that name is created if it didn't already exist."
   ]
  },
  {
   "cell_type": "code",
   "execution_count": 16,
   "metadata": {},
   "outputs": [
    {
     "name": "stdout",
     "output_type": "stream",
     "text": [
      "value of this_variable_did_not_exist is: This variable now exists\n",
      "type of this_variable_did_not_exist is: <class 'str'>\n"
     ]
    }
   ],
   "source": [
    "this_variable_did_not_exist = 'This variable now exists'\n",
    "print('value of this_variable_did_not_exist is:', this_variable_did_not_exist)\n",
    "print('type of this_variable_did_not_exist is:', type(this_variable_did_not_exist))"
   ]
  },
  {
   "cell_type": "markdown",
   "metadata": {},
   "source": [
    "## Interoperability between ints and floats\n",
    "\n",
    "In python arithmatic operations between ints and floats result in the bigger/higher/more precise datatype."
   ]
  },
  {
   "cell_type": "code",
   "execution_count": 17,
   "metadata": {},
   "outputs": [
    {
     "name": "stdout",
     "output_type": "stream",
     "text": [
      "value of added_variable is: 5.0\n",
      "type of added_variable is: <class 'float'>\n",
      "value of substracted_variable is: -1.0\n",
      "type of substracted_variable is: <class 'float'>\n",
      "value of multiplied_variable is: 6.0\n",
      "type of multiplied_variable is: <class 'float'>\n",
      "value of divided_variable is: 0.6666666666666666\n",
      "type of divided_variable is: <class 'float'>\n"
     ]
    }
   ],
   "source": [
    "added_variable = integer_variable + float_variable\n",
    "substracted_variable = integer_variable - float_variable\n",
    "multiplied_variable = integer_variable * float_variable\n",
    "divided_variable = integer_variable / float_variable\n",
    "print('value of added_variable is:', added_variable)\n",
    "print('type of added_variable is:', type(added_variable))\n",
    "\n",
    "print('value of substracted_variable is:', substracted_variable)\n",
    "print('type of substracted_variable is:', type(substracted_variable))\n",
    "\n",
    "print('value of multiplied_variable is:', multiplied_variable)\n",
    "print('type of multiplied_variable is:', type(multiplied_variable))\n",
    "\n",
    "print('value of divided_variable is:', divided_variable)\n",
    "print('type of divided_variable is:', type(divided_variable))"
   ]
  }
 ],
 "metadata": {
  "kernelspec": {
   "display_name": "GL-Python-3.7 (tensorflow-gpu)",
   "language": "python",
   "name": "tensorflow"
  },
  "language_info": {
   "codemirror_mode": {
    "name": "ipython",
    "version": 3
   },
   "file_extension": ".py",
   "mimetype": "text/x-python",
   "name": "python",
   "nbconvert_exporter": "python",
   "pygments_lexer": "ipython3",
   "version": "3.7.9"
  }
 },
 "nbformat": 4,
 "nbformat_minor": 4
}
