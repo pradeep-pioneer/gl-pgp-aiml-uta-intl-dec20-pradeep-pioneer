{
 "cells": [
  {
   "cell_type": "markdown",
   "metadata": {},
   "source": [
    "# Collections - Lists\n",
    "\n",
    "This notebook is the practice of concepts taught in [Collections of variables \\_list, tuple, set, dictionary-2](https://olympus.greatlearning.in/courses/29761/pages/collections-of-variables-list-tuple-set-dictionary-2?module_item_id=845448) lecture."
   ]
  },
  {
   "cell_type": "markdown",
   "metadata": {},
   "source": [
    "# Lists\n",
    "\n",
    "Lists in python are mutable, indexed collection of objects and it allows duplicate values.\n",
    "- Mutable: Allows the values to be added, deleted or updated after the list has been initialized.\n",
    "- Indexed: Allows for random access of objects in the collection using the index/location of the object. Python lists have zero based index.\n",
    "- Duplicate Values: Lists allows duplicate values and stores duplicate values as individual elements that can be accessed using their respective index values."
   ]
  },
  {
   "cell_type": "code",
   "execution_count": 27,
   "metadata": {},
   "outputs": [
    {
     "name": "stdout",
     "output_type": "stream",
     "text": [
      "first_list: ['Pradeep', 34, 66.0, 11, 'tensorflow', '2.1.0']\n",
      "indexed access -> 0:  Pradeep\n",
      "indexed access -> 1:  34\n",
      "indexed access -> 2:  66.0\n",
      "indexed access -> 3:  11\n",
      "indexed access -> 4:  tensorflow\n",
      "indexed access -> 5:  2.1.0\n",
      "negative indexed access -> -1:  2.1.0\n",
      "negative indexed access -> -4:  66.0\n"
     ]
    }
   ],
   "source": [
    "# list creation\n",
    "first_list = ['Pradeep', 34, 66.0, 11, 'tensorflow', '2.1.0']\n",
    "print('first_list:', first_list)\n",
    "\n",
    "# random access\n",
    "print('indexed access -> 0: ', first_list[0])\n",
    "print('indexed access -> 1: ', first_list[1])\n",
    "print('indexed access -> 2: ', first_list[2])\n",
    "print('indexed access -> 3: ', first_list[3])\n",
    "print('indexed access -> 4: ', first_list[4])\n",
    "print('indexed access -> 5: ', first_list[5])\n",
    "\n",
    "# roll-over/wrapping of the indexes when passed negative values\n",
    "print('negative indexed access -> -1: ', first_list[-1])\n",
    "print('negative indexed access -> -4: ', first_list[-4])"
   ]
  },
  {
   "cell_type": "markdown",
   "metadata": {},
   "source": [
    "## Range Indexing\n",
    "\n",
    "Python lists offer range indexing to return list elements in a range. The lower value of the range in inclusive while the upper value is exclusive."
   ]
  },
  {
   "cell_type": "code",
   "execution_count": 28,
   "metadata": {},
   "outputs": [
    {
     "name": "stdout",
     "output_type": "stream",
     "text": [
      "first_list[2:5] [66.0, 11, 'tensorflow']\n",
      "first_list[:5] ['Pradeep', 34, 66.0, 11, 'tensorflow']\n",
      "first_list[3:] [11, 'tensorflow', '2.1.0']\n",
      "first_list[-5:-2] [34, 66.0, 11]\n"
     ]
    }
   ],
   "source": [
    "# starting from the third (0,1,2) element -> all the elements including 4 (5-1) - upper bound is exlusive\n",
    "print('first_list[2:5]', first_list[2:5])\n",
    "# starting from the zeroeth element (no min index specified) -> all the elements including 4 (5-1) - upper bound is exlusive\n",
    "print('first_list[:5]', first_list[:5])\n",
    "# starting from the third element -> all the elements until the end of the list (no upper bound specified)\n",
    "print('first_list[3:]', first_list[3:])\n",
    "\n",
    "# starting from the fifth last element -> all the elements until the second last item\n",
    "print('first_list[-5:-2]', first_list[-5:-2])"
   ]
  },
  {
   "cell_type": "markdown",
   "metadata": {},
   "source": [
    "## Items Check\n",
    "\n",
    "Existence of items in the list can be checked using the **in** keyword."
   ]
  },
  {
   "cell_type": "code",
   "execution_count": 29,
   "metadata": {},
   "outputs": [
    {
     "name": "stdout",
     "output_type": "stream",
     "text": [
      "Pradeep exists in the list\n",
      "Unknown does not exist in the list\n"
     ]
    }
   ],
   "source": [
    "if 'Pradeep' in first_list:\n",
    "    print('Pradeep exists in the list')\n",
    "if 'Unknown' in first_list:\n",
    "    print('Unknown exists in the list')\n",
    "else:\n",
    "    print('Unknown does not exist in the list')"
   ]
  },
  {
   "cell_type": "markdown",
   "metadata": {},
   "source": [
    "## Simple Mutations\n",
    "\n",
    "In python lists can be mutated using the below operations:\n",
    "\n",
    "- element replacement using index\n",
    "- add element to the end using **append** function on the list.\n",
    "- remove element from the specific index using **pop** function from the list.\n",
    "- insert element at the specific index using **insert** function from the list."
   ]
  },
  {
   "cell_type": "code",
   "execution_count": 30,
   "metadata": {},
   "outputs": [
    {
     "name": "stdout",
     "output_type": "stream",
     "text": [
      "first_list[0]: Pradeep Singh\n",
      "Number of elements in the list is 6\n",
      "Number of elements in the list after \"append\" is 7\n",
      "Element at third index (place value 2) is 66.0\n",
      "Number of elements in the list after \"pop(2)\" is 6\n",
      "first_list: ['Pradeep Singh', 34, 11, 'tensorflow', '2.1.0', 'appended item']\n",
      "Number of elements in the list after \"insert(2, 66)\" is 7\n",
      "first_list: ['Pradeep Singh', 34, 66, 11, 'tensorflow', '2.1.0', 'appended item']\n"
     ]
    }
   ],
   "source": [
    "# mutations: elements\n",
    "first_list[0] = 'Pradeep Singh'\n",
    "print('first_list[0]:', first_list[0])\n",
    "\n",
    "# add/remove elements\n",
    "print('Number of elements in the list is', len(first_list))\n",
    "first_list.append('appended item')\n",
    "print('Number of elements in the list after \"append\" is', len(first_list))\n",
    "element_at_third_index = first_list.pop(2)\n",
    "print('Element at third index (place value 2) is', element_at_third_index)\n",
    "print('Number of elements in the list after \"pop(2)\" is', len(first_list))\n",
    "print('first_list:', first_list)\n",
    "\n",
    "# insert at specified index - add 66 back but as integer\n",
    "first_list.insert(2, 66)\n",
    "print('Number of elements in the list after \"insert(2, 66)\" is', len(first_list))\n",
    "print('first_list:', first_list)"
   ]
  },
  {
   "cell_type": "markdown",
   "metadata": {},
   "source": [
    "## List initialization\n",
    "\n",
    "In python lists can be initialized using one of the below methods\n",
    "\n",
    "- using square brackets\n",
    "- using lists constructor\n",
    "- multiply operator with a default value list."
   ]
  },
  {
   "cell_type": "code",
   "execution_count": 22,
   "metadata": {},
   "outputs": [
    {
     "name": "stdout",
     "output_type": "stream",
     "text": [
      "square_bracket_list: ['one', 'two', 'three', 'four', 5, 6.0, 'seven']\n",
      "list_constructor_list: ['one', 'two', 'three', 'four', 5, 6.0, 'seven']\n",
      "multiply_operator_list: [0, 0, 0, 0, 0, 0, 0]\n"
     ]
    }
   ],
   "source": [
    "square_bracket_list = ['one', 'two', 'three', 'four', 5, 6.0, 'seven']\n",
    "list_constructor_list = list(('one', 'two', 'three', 'four', 5, 6.0, 'seven')) # the values passed inside are actually a tuple\n",
    "multiply_operator_list = [0]*7 # a list with 7 elements all having value 0 - python lists can have duplicate elements\n",
    "print('square_bracket_list:', square_bracket_list)\n",
    "print('list_constructor_list:', list_constructor_list)\n",
    "print('multiply_operator_list:', multiply_operator_list)"
   ]
  },
  {
   "cell_type": "markdown",
   "metadata": {},
   "source": [
    "## Advanced Mutations\n",
    "\n",
    "The following advanced mutations are available on the python lists:\n",
    "\n",
    "- range mutations.\n",
    "- extend list.\n",
    "- remove a value.\n",
    "- pop from specific index.\n",
    "- using the **del** keyword.\n",
    "- using the **clear** function on the list.\n",
    "- using the **del** keyword on the entire list."
   ]
  },
  {
   "cell_type": "code",
   "execution_count": 41,
   "metadata": {},
   "outputs": [
    {
     "name": "stdout",
     "output_type": "stream",
     "text": [
      "square_bracket_list: ['one', 2, 3, 4, 5, 6.0, 'seven']\n",
      "square_bracket_list: ['one', 2, 4, 5, 6.0, 'seven']\n",
      "square_bracket_list: [1, 2, 3, 4, 5, 6.0, 'seven']\n",
      "square_bracket_list: [1, 2, 3, 4, 5, 6.0, 7]\n",
      "\n",
      "\n",
      "Extend a list with other collections:\n",
      "extension_items: [8, 9, 10]\n",
      "square_bracket_list: [1, 2, 3, 4, 5, 6.0, 7, 8, 9, 10]\n",
      "square_bracket_list (tuple extension): [1, 2, 3, 4, 5, 6.0, 7, 8, 9, 10, 11, 12, 13]\n",
      "square_bracket_list (set extension): [1, 2, 3, 4, 5, 6.0, 7, 8, 9, 10, 11, 12, 13, 14, 15]\n",
      "square_bracket_list (remove literal value 10): [1, 2, 3, 4, 5, 6.0, 7, 8, 9, 11, 12, 13, 14, 15]\n",
      "square_bracket_list (pop element at end): [1, 2, 3, 4, 5, 6.0, 7, 8, 9, 11, 12, 13, 14]\n",
      "square_bracket_list (del keyword): [1, 2, 3, 4, 5, 7, 8, 9, 11, 12, 13, 14]\n",
      "square_bracket_list (del keyword): [1, 2, 3, 4, 5, 8, 9, 11, 12, 13, 14]\n",
      "square_bracket_list (clear function): []\n",
      "square_bracket_list (extend after clear): [8, 9, 10]\n"
     ]
    },
    {
     "ename": "NameError",
     "evalue": "name 'square_bracket_list' is not defined",
     "output_type": "error",
     "traceback": [
      "\u001b[1;31m---------------------------------------------------------------------------\u001b[0m",
      "\u001b[1;31mNameError\u001b[0m                                 Traceback (most recent call last)",
      "\u001b[1;32m<ipython-input-41-6cfcb5f32ff1>\u001b[0m in \u001b[0;36m<module>\u001b[1;34m\u001b[0m\n\u001b[0;32m     50\u001b[0m \u001b[1;32mdel\u001b[0m \u001b[0msquare_bracket_list\u001b[0m\u001b[1;33m\u001b[0m\u001b[1;33m\u001b[0m\u001b[0m\n\u001b[0;32m     51\u001b[0m \u001b[1;31m# this will throw an exception as the list becomes null\u001b[0m\u001b[1;33m\u001b[0m\u001b[1;33m\u001b[0m\u001b[1;33m\u001b[0m\u001b[0m\n\u001b[1;32m---> 52\u001b[1;33m \u001b[0mprint\u001b[0m\u001b[1;33m(\u001b[0m\u001b[1;34m'square_bracket_list (del keyword on entire list):'\u001b[0m\u001b[1;33m,\u001b[0m \u001b[0msquare_bracket_list\u001b[0m\u001b[1;33m)\u001b[0m\u001b[1;33m\u001b[0m\u001b[1;33m\u001b[0m\u001b[0m\n\u001b[0m",
      "\u001b[1;31mNameError\u001b[0m: name 'square_bracket_list' is not defined"
     ]
    }
   ],
   "source": [
    "square_bracket_list = ['one', 'two', 'three', 'four', 5, 6.0, 'seven']\n",
    "extension_items = [8,9,10]\n",
    "# we are specifying that replace this range of 3 elements with the 3 lements specified (update elements)\n",
    "square_bracket_list[1:4] = [2, 3, 4]\n",
    "print('square_bracket_list:', square_bracket_list)\n",
    "# we are specifying that replace this range of 3 elements with the 2 elements specified (remove 3)\n",
    "square_bracket_list[1:4] = [2,4]\n",
    "print('square_bracket_list:', square_bracket_list)\n",
    "# specifying that replace this range of 3 elements with the 4 elements specified (update 0th element as 1, insert 3 again).\n",
    "square_bracket_list[0:3] = [1,2,3,4]\n",
    "print('square_bracket_list:', square_bracket_list)\n",
    "# also works with negative indexes\n",
    "square_bracket_list[-1:] = [7]\n",
    "print('square_bracket_list:', square_bracket_list)\n",
    "\n",
    "#extend list - extend one list with other\n",
    "print(\"\\n\\nExtend a list with other collections:\")\n",
    "print(\"extension_items:\", extension_items)\n",
    "square_bracket_list.extend(extension_items)\n",
    "print('square_bracket_list:', square_bracket_list)\n",
    "#can be extnded using other collections as well\n",
    "square_bracket_list.extend((11,12,13)) # using tuple\n",
    "print('square_bracket_list (tuple extension):', square_bracket_list)\n",
    "square_bracket_list.extend({14,15}) # using set\n",
    "print('square_bracket_list (set extension):', square_bracket_list)\n",
    "\n",
    "# remove literal value 10\n",
    "square_bracket_list.remove(10)\n",
    "print('square_bracket_list (remove literal value 10):', square_bracket_list)\n",
    "\n",
    "# pop element at end\n",
    "square_bracket_list.pop()\n",
    "print('square_bracket_list (pop element at end):', square_bracket_list)\n",
    "\n",
    "# using del keyword delete the 6th (place value 3) element\n",
    "del square_bracket_list[5]\n",
    "print('square_bracket_list (del keyword):', square_bracket_list)\n",
    "\n",
    "# using del keyword delete the 6th (place value 3) element\n",
    "del square_bracket_list[5]\n",
    "print('square_bracket_list (del keyword):', square_bracket_list)\n",
    "\n",
    "# using the clear function\n",
    "square_bracket_list.clear()\n",
    "print('square_bracket_list (clear function):', square_bracket_list)\n",
    "square_bracket_list.extend(extension_items)\n",
    "print('square_bracket_list (extend after clear):', square_bracket_list)\n",
    "\n",
    "# using the del keyword on the entire list\n",
    "del square_bracket_list\n",
    "# this will throw an exception as the list becomes null\n",
    "print('square_bracket_list (del keyword on entire list):', square_bracket_list)"
   ]
  }
 ],
 "metadata": {
  "kernelspec": {
   "display_name": "GL-Python-3.7 (tensorflow-gpu)",
   "language": "python",
   "name": "tensorflow"
  },
  "language_info": {
   "codemirror_mode": {
    "name": "ipython",
    "version": 3
   },
   "file_extension": ".py",
   "mimetype": "text/x-python",
   "name": "python",
   "nbconvert_exporter": "python",
   "pygments_lexer": "ipython3",
   "version": "3.7.9"
  }
 },
 "nbformat": 4,
 "nbformat_minor": 4
}
