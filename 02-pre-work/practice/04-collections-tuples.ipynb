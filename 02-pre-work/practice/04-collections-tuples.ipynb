{
 "cells": [
  {
   "cell_type": "markdown",
   "metadata": {},
   "source": [
    "# Collections - Tuples\n",
    "\n",
    "This notebook is the practice of concepts taught in [Collections of variables \\_list, tuple, set, dictionary-2](https://olympus.greatlearning.in/courses/29761/pages/collections-of-variables-list-tuple-set-dictionary-2?module_item_id=845448) lecture."
   ]
  },
  {
   "cell_type": "markdown",
   "metadata": {},
   "source": [
    "# Tuples\n",
    "\n",
    "Tuples in python are immutable, ordered/indexed collection of objects and it allows duplicate values.\n",
    "- Immutable: Tuples don't allow the values to be added, deleted or updated after the tuple has been created.\n",
    "- Ordered: The ordering of elements cannot change after a tuple has been created. This is because the tuples are immutable and you cannot insert/remove items from a tuple.\n",
    "- Indexed: Allows for random access of objects in the collection using the index/location of the object. Python tuples have zero based index.\n",
    "- Duplicate Values: Tuples allow duplicate values and stores duplicate values as individual elements that can be accessed using their respective index values."
   ]
  },
  {
   "cell_type": "code",
   "execution_count": 2,
   "metadata": {},
   "outputs": [
    {
     "name": "stdout",
     "output_type": "stream",
     "text": [
      "indexed access -> 0:  Pradeep\n",
      "indexed access -> 1:  34\n",
      "indexed access -> 2:  66.0\n",
      "indexed access -> 3:  11\n",
      "indexed access -> 4:  tensorflow\n",
      "indexed access -> 5:  2.1.0\n",
      "negative indexed access -> -1:  2.1.0\n",
      "negative indexed access -> -4:  66.0\n"
     ]
    }
   ],
   "source": [
    "# tuple creation\n",
    "first_tuple = ('Pradeep', 34, 66.0, 11, 'tensorflow', '2.1.0')\n",
    "\n",
    "# random access\n",
    "print('indexed access -> 0: ', first_tuple[0])\n",
    "print('indexed access -> 1: ', first_tuple[1])\n",
    "print('indexed access -> 2: ', first_tuple[2])\n",
    "print('indexed access -> 3: ', first_tuple[3])\n",
    "print('indexed access -> 4: ', first_tuple[4])\n",
    "print('indexed access -> 5: ', first_tuple[5])\n",
    "\n",
    "# roll-over/wrapping of the indexes when passed negative values\n",
    "print('negative indexed access -> -1: ', first_tuple[-1])\n",
    "print('negative indexed access -> -4: ', first_tuple[-4])"
   ]
  },
  {
   "cell_type": "markdown",
   "metadata": {},
   "source": [
    "## Range Indexing\n",
    "\n",
    "Python tuples offer range indexing to return list elements in a range. The lower value of the range in inclusive while the upper value is exclusive."
   ]
  },
  {
   "cell_type": "code",
   "execution_count": 4,
   "metadata": {},
   "outputs": [
    {
     "name": "stdout",
     "output_type": "stream",
     "text": [
      "first_tuple[2:5] (66.0, 11, 'tensorflow')\n",
      "first_tuple[:5] ('Pradeep', 34, 66.0, 11, 'tensorflow')\n",
      "first_tuple[3:] (11, 'tensorflow', '2.1.0')\n",
      "first_tuple[-5:-2] (34, 66.0, 11)\n"
     ]
    }
   ],
   "source": [
    "# starting from the third (0,1,2) element -> all the elements including 4 (5-1) - upper bound is exlusive\n",
    "print('first_tuple[2:5]', first_tuple[2:5])\n",
    "# starting from the zeroeth element (no min index specified) -> all the elements including 4 (5-1) - upper bound is exlusive\n",
    "print('first_tuple[:5]', first_tuple[:5])\n",
    "# starting from the third element -> all the elements until the end of the list (no upper bound specified)\n",
    "print('first_tuple[3:]', first_tuple[3:])\n",
    "\n",
    "# starting from the fifth last element -> all the elements until the second last item\n",
    "print('first_tuple[-5:-2]', first_tuple[-5:-2])"
   ]
  },
  {
   "cell_type": "markdown",
   "metadata": {},
   "source": [
    "## Items Check\n",
    "\n",
    "Existence of items in the list can be checked using the **in** keyword."
   ]
  },
  {
   "cell_type": "code",
   "execution_count": 6,
   "metadata": {},
   "outputs": [
    {
     "name": "stdout",
     "output_type": "stream",
     "text": [
      "Pradeep exists in the tuple\n",
      "Unknown does not exist in the tuple\n"
     ]
    }
   ],
   "source": [
    "if 'Pradeep' in first_tuple:\n",
    "    print('Pradeep exists in the tuple')\n",
    "if 'Unknown' in first_tuple:\n",
    "    print('Unknown exists in the tuple')\n",
    "else:\n",
    "    print('Unknown does not exist in the tuple')"
   ]
  },
  {
   "cell_type": "markdown",
   "metadata": {},
   "source": [
    "## Tuple initialization\n",
    "\n",
    "In python tuples can be initialized using one of the below methods\n",
    "\n",
    "- using parenthesis\n",
    "- using tuple constructor\n",
    "- multiply operator with a default value list/tuple."
   ]
  },
  {
   "cell_type": "code",
   "execution_count": 8,
   "metadata": {},
   "outputs": [
    {
     "name": "stdout",
     "output_type": "stream",
     "text": [
      "parenthesis_tuple: ('one', 'two', 'three', 'four', 5, 6.0, 'seven')\n",
      "tuple_constructor_tuple: ('one', 'two', 'three', 'four', 5, 6.0, 'seven')\n",
      "tuple_constructor_from_list_tuple: ('one', 'two', 'three', 'four', 5, 6.0, 'seven')\n",
      "multiply_operator_tuple: 0\n",
      "multiply_operator__from_list_tuple: [0, 0, 0, 0, 0, 0, 0]\n"
     ]
    }
   ],
   "source": [
    "parenthesis_tuple = ('one', 'two', 'three', 'four', 5, 6.0, 'seven')\n",
    "\n",
    "# the values passed inside are actually another tuple\n",
    "tuple_constructor_tuple = tuple(('one', 'two', 'three', 'four', 5, 6.0, 'seven'))\n",
    "# the values passed inside are actually another list\n",
    "tuple_constructor_from_list_tuple = tuple(['one', 'two', 'three', 'four', 5, 6.0, 'seven'])\n",
    "\n",
    "# a list with 7 elements all having value 0 - python lists can have duplicate elements\n",
    "multiply_operator_tuple = (0)*7\n",
    "# a list with 7 elements all having value 0 - python lists can have duplicate elements\n",
    "multiply_operator__from_list_tuple = [0]*7 \n",
    "\n",
    "print('parenthesis_tuple:', parenthesis_tuple)\n",
    "print('tuple_constructor_tuple:', tuple_constructor_tuple)\n",
    "print('tuple_constructor_from_list_tuple:', tuple_constructor_from_list_tuple)\n",
    "print('multiply_operator_tuple:', multiply_operator_tuple)\n",
    "print('multiply_operator__from_list_tuple:', multiply_operator__from_list_tuple)"
   ]
  },
  {
   "cell_type": "markdown",
   "metadata": {},
   "source": [
    "## Mutations\n",
    "\n",
    "Mutations are forbidden."
   ]
  },
  {
   "cell_type": "code",
   "execution_count": 11,
   "metadata": {},
   "outputs": [
    {
     "name": "stdout",
     "output_type": "stream",
     "text": [
      "some_tuple: (1, 2, 3, 4, 5, 6, 8)\n",
      "some_tuple[6]: 8\n"
     ]
    },
    {
     "ename": "TypeError",
     "evalue": "'tuple' object does not support item assignment",
     "output_type": "error",
     "traceback": [
      "\u001b[1;31m---------------------------------------------------------------------------\u001b[0m",
      "\u001b[1;31mTypeError\u001b[0m                                 Traceback (most recent call last)",
      "\u001b[1;32m<ipython-input-11-691b561ea16c>\u001b[0m in \u001b[0;36m<module>\u001b[1;34m\u001b[0m\n\u001b[0;32m      2\u001b[0m \u001b[0mprint\u001b[0m\u001b[1;33m(\u001b[0m\u001b[1;34m'some_tuple:'\u001b[0m\u001b[1;33m,\u001b[0m \u001b[0msome_tuple\u001b[0m\u001b[1;33m)\u001b[0m\u001b[1;33m\u001b[0m\u001b[1;33m\u001b[0m\u001b[0m\n\u001b[0;32m      3\u001b[0m \u001b[0mprint\u001b[0m\u001b[1;33m(\u001b[0m\u001b[1;34m'some_tuple[6]:'\u001b[0m\u001b[1;33m,\u001b[0m \u001b[0msome_tuple\u001b[0m\u001b[1;33m[\u001b[0m\u001b[1;36m6\u001b[0m\u001b[1;33m]\u001b[0m\u001b[1;33m)\u001b[0m\u001b[1;33m\u001b[0m\u001b[1;33m\u001b[0m\u001b[0m\n\u001b[1;32m----> 4\u001b[1;33m \u001b[0msome_tuple\u001b[0m\u001b[1;33m[\u001b[0m\u001b[1;36m6\u001b[0m\u001b[1;33m]\u001b[0m \u001b[1;33m=\u001b[0m \u001b[1;36m7\u001b[0m \u001b[1;31m# this will throw an error\u001b[0m\u001b[1;33m\u001b[0m\u001b[1;33m\u001b[0m\u001b[0m\n\u001b[0m",
      "\u001b[1;31mTypeError\u001b[0m: 'tuple' object does not support item assignment"
     ]
    }
   ],
   "source": [
    "some_tuple = (1,2,3,4,5,6,8)\n",
    "print('some_tuple:', some_tuple)\n",
    "print('some_tuple[6]:', some_tuple[6])\n",
    "some_tuple[6] = 7 # this will throw an error"
   ]
  },
  {
   "cell_type": "code",
   "execution_count": 13,
   "metadata": {},
   "outputs": [
    {
     "name": "stdout",
     "output_type": "stream",
     "text": [
      "another_tuple: (1, 2, 3, 4, 5, 6, 8)\n",
      "another_tuple(after mutation): (1, 2, 3, 4, 5, 6, 7, 8)\n"
     ]
    }
   ],
   "source": [
    "# we can mutate the tuple by changing it into a list and changing the list back to tuple\n",
    "another_tuple = (1,2,3,4,5,6,8)\n",
    "print('another_tuple:', another_tuple)\n",
    "temp_list = list(another_tuple)\n",
    "temp_list[6:] = [7,8]\n",
    "another_tuple = tuple(temp_list)\n",
    "print('another_tuple(after mutation):', another_tuple)"
   ]
  },
  {
   "cell_type": "markdown",
   "metadata": {},
   "source": [
    "## Unpack Tuples\n",
    "\n",
    "The act of extracting tuple values into variables is called unpacking. The tuples can be upacked into other objects of type:\n",
    "\n",
    "- object variables for each element\n",
    "- lits variables for multiple items"
   ]
  },
  {
   "cell_type": "code",
   "execution_count": 20,
   "metadata": {},
   "outputs": [
    {
     "name": "stdout",
     "output_type": "stream",
     "text": [
      "names_tuple: ('John', 'Sam', 'Henry', 'Michael', 'Julie')\n",
      "john: John\n",
      "sam: Sam\n",
      "henry: Henry\n",
      "michael: Michael\n",
      "julie: Julie\n",
      "another_john: John\n",
      "another_sam: Sam\n",
      "another_names_list: ['Henry', 'Michael', 'Julie']\n",
      "some_other_john: John\n",
      "some_other_list: ['Sam', 'Henry', 'Michael']\n",
      "some_other_julie: Julie\n"
     ]
    }
   ],
   "source": [
    "names_tuple = ('John', 'Sam', 'Henry', 'Michael', 'Julie')\n",
    "\n",
    "#extract into variables\n",
    "(john, sam, henry, michael, julie) = names_tuple\n",
    "print('names_tuple:', names_tuple)\n",
    "print('john:', john)\n",
    "print('sam:', sam)\n",
    "print('henry:', henry)\n",
    "print('michael:', michael)\n",
    "print('julie:', julie)\n",
    "\n",
    "# extract some into variables and rest into a list\n",
    "(another_john, another_sam, *another_names_list) = names_tuple\n",
    "print('another_john:', another_john)\n",
    "print('another_sam:', another_sam)\n",
    "print('another_names_list:', another_names_list)\n",
    "\n",
    "# extract into list from middle\n",
    "(some_other_john, *some_other_list, some_other_julie) = names_tuple\n",
    "print('some_other_john:', some_other_john)\n",
    "print('some_other_list:', some_other_list)\n",
    "print('some_other_julie:', some_other_julie)"
   ]
  }
 ],
 "metadata": {
  "kernelspec": {
   "display_name": "GL-Python-3.7 (tensorflow)",
   "language": "python",
   "name": "gl-tensorflow"
  },
  "language_info": {
   "codemirror_mode": {
    "name": "ipython",
    "version": 3
   },
   "file_extension": ".py",
   "mimetype": "text/x-python",
   "name": "python",
   "nbconvert_exporter": "python",
   "pygments_lexer": "ipython3",
   "version": "3.7.9"
  }
 },
 "nbformat": 4,
 "nbformat_minor": 4
}
