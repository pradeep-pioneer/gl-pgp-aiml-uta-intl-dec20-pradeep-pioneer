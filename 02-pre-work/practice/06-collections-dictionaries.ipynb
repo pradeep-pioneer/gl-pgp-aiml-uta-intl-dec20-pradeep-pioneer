{
 "cells": [
  {
   "cell_type": "markdown",
   "metadata": {},
   "source": [
    "# Collections - Dictionaries\n",
    "\n",
    "This notebook is the practice of concepts taught in [Collections of variables \\_list, tuple, set, dictionary-2](https://olympus.greatlearning.in/courses/29761/pages/collections-of-variables-list-tuple-set-dictionary-2?module_item_id=845448) lecture."
   ]
  },
  {
   "cell_type": "markdown",
   "metadata": {},
   "source": [
    "# Dictionaries\n",
    "\n",
    "Dictionaries in python are collection of objects and they are mutable, unordered, indexed using keys and it does not allow duplicate keys.\n",
    "- Mutable: Dictionaries allow the values to be added, deleted or updated after the dictionary has been created.\n",
    "- Unordered: Dictionary don't order objects by values.\n",
    "- Indexed: Allows for random access of objects in the collection using the key of the elements.\n",
    "- Duplicate Values: Dictionaries don't allow duplicate keys. If a ke doesn't exists in the collection when adding the element, the key is created, if the key exists then the value is overridden."
   ]
  },
  {
   "cell_type": "code",
   "execution_count": 1,
   "metadata": {},
   "outputs": [
    {
     "name": "stdout",
     "output_type": "stream",
     "text": [
      "first_dictionary: {'first_name': 'Pradeep', 'last_name': 'Singh', 'title': 'Mr.'}\n",
      "first_dictionary[\"title\"]: Mr.\n",
      "first_dictionary[\"first_name\"]: Pradeep\n",
      "first_dictionary[\"last_name\"]: Singh\n"
     ]
    }
   ],
   "source": [
    "# dictionary creation\n",
    "first_dictionary = {\n",
    "    'first_name': 'Pradeep',\n",
    "    'last_name': 'Singh',\n",
    "    'title': 'Mr.'\n",
    "}\n",
    "print('first_dictionary:', first_dictionary)\n",
    "\n",
    "#random access using keys\n",
    "print('first_dictionary[\"title\"]:', first_dictionary[\"title\"])\n",
    "print('first_dictionary[\"first_name\"]:', first_dictionary[\"first_name\"])\n",
    "print('first_dictionary[\"last_name\"]:', first_dictionary[\"last_name\"])"
   ]
  },
  {
   "cell_type": "markdown",
   "metadata": {},
   "source": [
    "## Access Items\n",
    "\n",
    "There are several ways to access items in a dictionary:\n",
    "\n",
    "- using the **get** function on the dictionary.\n",
    "- using the name of the key as the *indexer*.\n",
    "- using the **items** function to get items as a list of tuples.\n",
    "- using the **keys** function to get the keys.\n",
    "- using the **values** function to get the values."
   ]
  },
  {
   "cell_type": "code",
   "execution_count": 5,
   "metadata": {},
   "outputs": [
    {
     "name": "stdout",
     "output_type": "stream",
     "text": [
      "first_dictionary.get(\"title\"): Mr.\n",
      "first_dictionary.[\"title\"]: Mr.\n",
      "first_dictionary.items(): dict_items([('first_name', 'Pradeep'), ('last_name', 'Singh'), ('title', 'Mr.')])\n",
      "first_dictionary.keys(): dict_keys(['first_name', 'last_name', 'title'])\n",
      "first_dictionary.values(): dict_values(['Pradeep', 'Singh', 'Mr.'])\n"
     ]
    }
   ],
   "source": [
    "print('first_dictionary.get(\"title\"):', first_dictionary.get('title'))\n",
    "print('first_dictionary.[\"title\"]:', first_dictionary['title'])\n",
    "print('first_dictionary.items():', first_dictionary.items())\n",
    "print('first_dictionary.keys():', first_dictionary.keys())\n",
    "print('first_dictionary.values():', first_dictionary.values())"
   ]
  },
  {
   "cell_type": "markdown",
   "metadata": {},
   "source": [
    "## Mutations\n",
    "\n",
    "We can add new items to the dictionary and update the values of existing items."
   ]
  },
  {
   "cell_type": "code",
   "execution_count": 7,
   "metadata": {},
   "outputs": [
    {
     "name": "stdout",
     "output_type": "stream",
     "text": [
      "first_dictionary: {'first_name': 'Pradeep', 'last_name': 'Singh', 'title': 'Mr.', 'experience': 14, 'designation': 'Senior Software Engineer'}\n",
      "first_dictionary: {'first_name': 'Pradeep', 'last_name': 'Singh', 'title': 'Mr.', 'experience': 14, 'designation': 'Senior Software Engineer'}\n",
      "first_dictionary[\"designation\"]: Software Engineer\n",
      "first_dictionary[\"designation\"]: Senior Software Engineer\n",
      "first_dictionary: {'first_name': 'Pradeep', 'last_name': 'Singh', 'title': 'Mr.', 'experience': 14, 'designation': 'Senior Software Engineer'}\n"
     ]
    }
   ],
   "source": [
    "print('first_dictionary:', first_dictionary)\n",
    "first_dictionary['experience'] = 14\n",
    "print('first_dictionary:', first_dictionary)\n",
    "first_dictionary['designation'] = 'Software Engineer'\n",
    "print('first_dictionary[\"designation\"]:', first_dictionary['designation'])\n",
    "first_dictionary['designation'] = 'Senior Software Engineer'\n",
    "print('first_dictionary[\"designation\"]:', first_dictionary['designation'])\n",
    "print('first_dictionary:', first_dictionary)"
   ]
  }
 ],
 "metadata": {
  "kernelspec": {
   "display_name": "GL-Python-3.7 (tensorflow-gpu)",
   "language": "python",
   "name": "tensorflow"
  },
  "language_info": {
   "codemirror_mode": {
    "name": "ipython",
    "version": 3
   },
   "file_extension": ".py",
   "mimetype": "text/x-python",
   "name": "python",
   "nbconvert_exporter": "python",
   "pygments_lexer": "ipython3",
   "version": "3.7.9"
  }
 },
 "nbformat": 4,
 "nbformat_minor": 4
}
