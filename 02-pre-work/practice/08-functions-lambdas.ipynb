{
 "cells": [
  {
   "cell_type": "markdown",
   "metadata": {},
   "source": [
    "# Functions\n",
    "\n",
    "There are 2 kinds of functions in python:\n",
    "- Named functions\n",
    "- Anonymous functions/lambdas"
   ]
  },
  {
   "cell_type": "code",
   "execution_count": 4,
   "metadata": {},
   "outputs": [
    {
     "name": "stdout",
     "output_type": "stream",
     "text": [
      "Help on function add_numbers in module __main__:\n",
      "\n",
      "add_numbers(number1, number2)\n",
      "    Returns the result of adding 2 number.\n",
      "    \n",
      "    Parameters:\n",
      "        number1 (int):The string which is to be reversed.\n",
      "        number2 (int):The string which is to be reversed.\n",
      "    \n",
      "    Returns:\n",
      "        add(number1, number2):The result of adding 2 numbers.\n",
      "\n",
      "15\n"
     ]
    }
   ],
   "source": [
    "def add_numbers(number1, number2):\n",
    "    '''\n",
    "    Returns the result of adding 2 number.\n",
    "\n",
    "    Parameters:\n",
    "        number1 (int):The string which is to be reversed.\n",
    "        number2 (int):The string which is to be reversed.\n",
    "\n",
    "    Returns:\n",
    "        add(number1, number2):The result of adding 2 numbers.   \n",
    "    '''\n",
    "    return number1+number2\n",
    "\n",
    "added = add_numbers(5,10)\n",
    "help(add_numbers)\n",
    "print(added)"
   ]
  },
  {
   "cell_type": "code",
   "execution_count": 8,
   "metadata": {},
   "outputs": [
    {
     "name": "stdout",
     "output_type": "stream",
     "text": [
      "3 + 5 = 8\n",
      "This sum is also memorized: 8\n"
     ]
    }
   ],
   "source": [
    "# global vars\n",
    "def sum_with_memory(number1, number2):\n",
    "    global last_sum\n",
    "    last_sum = number1 + number2\n",
    "    return last_sum\n",
    "\n",
    "print(3, '+', 5, '=', sum_with_memory(3,5))\n",
    "print('This sum is also memorized:', last_sum)"
   ]
  },
  {
   "cell_type": "code",
   "execution_count": 10,
   "metadata": {},
   "outputs": [
    {
     "name": "stdout",
     "output_type": "stream",
     "text": [
      "sum: 14\n",
      "diff: 6\n",
      "product: 40\n",
      "quotient: 2.5\n"
     ]
    }
   ],
   "source": [
    "# lambda\n",
    "\n",
    "def arithmatic(number1, number2, operator):\n",
    "    add = lambda a,b: a+b\n",
    "    substract = lambda a,b: a-b\n",
    "    divide = lambda a,b: a/b\n",
    "    multiply = lambda a,b: a*b\n",
    "    if operator == '+':\n",
    "        return add(number1, number2)\n",
    "    elif operator == '-':\n",
    "        return substract(number1, number2)\n",
    "    elif operator == 'x' or operator == '*':\n",
    "        return multiply(number1, number2)\n",
    "    elif operator == '/':\n",
    "        return divide(number1, number2)\n",
    "    else:\n",
    "        raise Exception('Not a valid operator')\n",
    "\n",
    "a = 10\n",
    "b = 4\n",
    "sum_value = arithmatic(a,b, '+')\n",
    "diff_value = arithmatic(a,b, '-')\n",
    "product_value = arithmatic(a,b, 'x')\n",
    "divide_value = arithmatic(a,b, '/')\n",
    "\n",
    "print('sum:', sum_value)\n",
    "print('diff:', diff_value)\n",
    "print('product:', product_value)\n",
    "print('quotient:', divide_value)"
   ]
  }
 ],
 "metadata": {
  "kernelspec": {
   "display_name": "GL-Python-3.7 (tensorflow)",
   "language": "python",
   "name": "gl-tensorflow"
  },
  "language_info": {
   "codemirror_mode": {
    "name": "ipython",
    "version": 3
   },
   "file_extension": ".py",
   "mimetype": "text/x-python",
   "name": "python",
   "nbconvert_exporter": "python",
   "pygments_lexer": "ipython3",
   "version": "3.7.9"
  }
 },
 "nbformat": 4,
 "nbformat_minor": 4
}
