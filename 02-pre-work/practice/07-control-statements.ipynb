{
 "cells": [
  {
   "cell_type": "markdown",
   "metadata": {},
   "source": [
    "# Control Statements\n",
    "\n",
    "There are 2 kinds of control statements:\n",
    "- Loops\n",
    "- Conditional"
   ]
  },
  {
   "cell_type": "markdown",
   "metadata": {},
   "source": [
    "## Loops\n",
    "\n",
    "Loops are a way of performing some action again and again. Python has 2 kind of loop constructs:\n",
    "- ```for``` loop\n",
    "- ```while``` loop"
   ]
  },
  {
   "cell_type": "code",
   "execution_count": 9,
   "metadata": {},
   "outputs": [
    {
     "name": "stdout",
     "output_type": "stream",
     "text": [
      "reached: 1\n",
      "reached: 2\n",
      "reached: 8\n",
      "reached: 5\n",
      "reached: 3\n",
      "reached index: 0 Found: 1\n",
      "reached index: 1 Found: 2\n",
      "reached index: 2 Found: 8\n",
      "reached index: 3 Found: 5\n",
      "reached index: 4 Found: 3\n",
      "Increment 2, reached index: 0 Found: 1\n",
      "Increment 2, reached index: 2 Found: 8\n",
      "Increment 2, reached index: 4 Found: 3\n",
      "Iterating from 0 to 50 using increments of 10, reached: 0\n",
      "Iterating from 0 to 50 using increments of 10, reached: 10\n",
      "Iterating from 0 to 50 using increments of 10, reached: 20\n",
      "Iterating from 0 to 50 using increments of 10, reached: 30\n",
      "Iterating from 0 to 50 using increments of 10, reached: 40\n"
     ]
    }
   ],
   "source": [
    "some_list = [1,2,8,5,3]\n",
    "for number in some_list:\n",
    "    print('reached:', number)\n",
    "\n",
    "for i in range(5):\n",
    "    print('reached index:', i, 'Found:', some_list[i])\n",
    "\n",
    "for i in range(0,5,2):\n",
    "    print('Increment 2, reached index:', i, 'Found:', some_list[i])\n",
    "\n",
    "for i in range(0, 50, 10):\n",
    "    print('Iterating from 0 to 50 using increments of 10, reached:', i)"
   ]
  },
  {
   "cell_type": "code",
   "execution_count": 12,
   "metadata": {},
   "outputs": [
    {
     "name": "stdout",
     "output_type": "stream",
     "text": [
      "0 x 0 = 0\n",
      "0 x 1 = 0\n",
      "0 x 2 = 0\n",
      "0 x 3 = 0\n",
      "0 x 4 = 0\n",
      "1 x 1 = 1\n",
      "1 x 2 = 2\n",
      "1 x 3 = 3\n",
      "1 x 4 = 4\n",
      "2 x 2 = 4\n",
      "2 x 3 = 6\n",
      "2 x 4 = 8\n",
      "3 x 3 = 9\n",
      "3 x 4 = 12\n",
      "4 x 4 = 16\n"
     ]
    }
   ],
   "source": [
    "# nested loop\n",
    "for i in range(5):\n",
    "    for j in range(i,5):\n",
    "        print(i,'x', j, '=', i * j)"
   ]
  },
  {
   "cell_type": "code",
   "execution_count": 20,
   "metadata": {},
   "outputs": [
    {
     "name": "stdout",
     "output_type": "stream",
     "text": [
      "seconds: 34\n",
      "seconds: 35\n"
     ]
    }
   ],
   "source": [
    "import datetime\n",
    "import time\n",
    "# while loop\n",
    "should_continue = True\n",
    "while should_continue:\n",
    "    current_time = datetime.datetime.now()\n",
    "    print('seconds:', current_time.second)\n",
    "    time.sleep(1)\n",
    "    should_continue = current_time.second % 2 == 0"
   ]
  },
  {
   "cell_type": "code",
   "execution_count": 21,
   "metadata": {},
   "outputs": [
    {
     "name": "stdout",
     "output_type": "stream",
     "text": [
      "number: 1\n",
      "number: 2\n",
      "number: 3\n",
      "number: 4\n",
      "number: 5\n",
      "number: 6\n",
      "number: 7\n",
      "number: 8\n",
      "number: 9\n",
      "number: 10\n"
     ]
    }
   ],
   "source": [
    "counter = 1\n",
    "while counter <= 10:\n",
    "    print('number:', counter)\n",
    "    counter = counter + 1"
   ]
  },
  {
   "cell_type": "code",
   "execution_count": 58,
   "metadata": {},
   "outputs": [
    {
     "name": "stdout",
     "output_type": "stream",
     "text": [
      "Second value in current minute: 20\n",
      "Its not a new minute anymore, its adult now\n"
     ]
    }
   ],
   "source": [
    "# if elif and else statement\n",
    "current_time = datetime.datetime.now()\n",
    "print('Second value in current minute:', current_time.second)\n",
    "if current_time.second < 20:\n",
    "    print('New minute has just started')\n",
    "elif current_time.second < 40:\n",
    "    print('Its not a new minute anymore, its adult now')\n",
    "else:\n",
    "    print('This minute is about to die and new one will be born')"
   ]
  }
 ],
 "metadata": {
  "kernelspec": {
   "display_name": "GL-Python-3.7 (tensorflow)",
   "language": "python",
   "name": "gl-tensorflow"
  },
  "language_info": {
   "codemirror_mode": {
    "name": "ipython",
    "version": 3
   },
   "file_extension": ".py",
   "mimetype": "text/x-python",
   "name": "python",
   "nbconvert_exporter": "python",
   "pygments_lexer": "ipython3",
   "version": "3.7.9"
  }
 },
 "nbformat": 4,
 "nbformat_minor": 4
}
