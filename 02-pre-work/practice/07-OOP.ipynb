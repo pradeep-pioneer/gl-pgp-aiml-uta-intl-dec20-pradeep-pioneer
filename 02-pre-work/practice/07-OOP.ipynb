{
 "cells": [
  {
   "cell_type": "markdown",
   "metadata": {},
   "source": [
    "# Object Oriented Programming\n",
    "\n",
    "This notebook is the practice of concepts taught in [OOP Theory & Practical](https://olympus.greatlearning.in/courses/29761/files/1595315?module_item_id=845457) lecture."
   ]
  },
  {
   "cell_type": "markdown",
   "metadata": {},
   "source": [
    "## Classes\n",
    "\n",
    "Classes are the structure that allows us to have custom data types. A class is made up of attributes and methods.\n",
    "\n",
    "---\n",
    "### Attributes\n",
    "---\n",
    "Attributes are variables that hold data on a class, attributes can have built-in data types (int, float etc.) or custom data types (other classes).\n",
    "\n",
    "---\n",
    "### Methods\n",
    "---\n",
    "Methods are functions that can perform computation on the class attributes (variables) or variables passed in as arguments to the methods. Methods may or may not return results.\n",
    "\n",
    "---\n",
    "### Initializers\n",
    "---\n",
    "Initializers are special methods on a class that are executed every time an object/instance of the class is created. In other programming languages these are known as ```Constructors```.\n",
    "\n",
    "---\n",
    "### self\n",
    "---\n",
    "Inside a class method to access the attributes/methods of the class we need to prefix the calls to the attributes using ```self.``` prefix. ```self``` represents the current instance of the class."
   ]
  },
  {
   "cell_type": "code",
   "execution_count": 9,
   "metadata": {},
   "outputs": [
    {
     "name": "stdout",
     "output_type": "stream",
     "text": [
      "A person is born on 27-April-2014\n",
      "The person born on 27-April-2014 was christened as Sam Cooper\n"
     ]
    }
   ],
   "source": [
    "class Person:\n",
    "    born = False\n",
    "    birthday = 'Not Born Yet'\n",
    "    def born(self, date_of_birth):\n",
    "        self.born = True\n",
    "        self.birthday = date_of_birth\n",
    "        \n",
    "    def christened(self, first_name, last_name):\n",
    "        if not self.born:\n",
    "            raise Exception('This person is not born yet')\n",
    "        self.first_name = first_name\n",
    "        self.last_name = last_name\n",
    "\n",
    "first_person = Person()\n",
    "first_person.born('27-April-2014')\n",
    "print('A person is born on', first_person.birthday)\n",
    "first_person.christened('Sam', 'Cooper')\n",
    "print('The person born on', first_person.birthday, 'was christened as', first_person.first_name, first_person.last_name)"
   ]
  },
  {
   "cell_type": "code",
   "execution_count": 11,
   "metadata": {},
   "outputs": [
    {
     "name": "stdout",
     "output_type": "stream",
     "text": [
      "2020-12-05\n",
      "<class 'datetime.date'>\n"
     ]
    }
   ],
   "source": [
    "import datetime\n",
    "today = datetime.date.today()\n",
    "print(today)\n",
    "print(type(today))"
   ]
  },
  {
   "cell_type": "code",
   "execution_count": 15,
   "metadata": {},
   "outputs": [
    {
     "name": "stdout",
     "output_type": "stream",
     "text": [
      "Service needed: True\n",
      "Car Serviced\n",
      "Service needed: False\n"
     ]
    }
   ],
   "source": [
    "class Car:\n",
    "    def __init__(self, make, model, mileage):\n",
    "        self.make = make\n",
    "        self.model = model,\n",
    "        self.mileage = mileage\n",
    "        \n",
    "    def sold(self, sold_date):\n",
    "        self.sold_date = sold_date\n",
    "        self.service_date = sold_date\n",
    "        \n",
    "    def serviced(self, service_date):\n",
    "        self.service_date = service_date\n",
    "        \n",
    "    def service_needed(self):\n",
    "        current_date = datetime.date.today()\n",
    "        time_since_service = current_date - self.service_date\n",
    "        if time_since_service.days > 90:\n",
    "            return True\n",
    "        else:\n",
    "            return False\n",
    "\n",
    "first_car = Car('Honda', 'Civic', 18)\n",
    "first_car.sold(datetime.date(2020, 3, 12))\n",
    "print('Service needed:', first_car.service_needed())\n",
    "first_car.serviced(datetime.date.today())\n",
    "print('Car Serviced\\nService needed:', first_car.service_needed())"
   ]
  }
 ],
 "metadata": {
  "kernelspec": {
   "display_name": "GL-Python-3.7 (tensorflow)",
   "language": "python",
   "name": "gl-tensorflow"
  },
  "language_info": {
   "codemirror_mode": {
    "name": "ipython",
    "version": 3
   },
   "file_extension": ".py",
   "mimetype": "text/x-python",
   "name": "python",
   "nbconvert_exporter": "python",
   "pygments_lexer": "ipython3",
   "version": "3.7.9"
  }
 },
 "nbformat": 4,
 "nbformat_minor": 4
}
