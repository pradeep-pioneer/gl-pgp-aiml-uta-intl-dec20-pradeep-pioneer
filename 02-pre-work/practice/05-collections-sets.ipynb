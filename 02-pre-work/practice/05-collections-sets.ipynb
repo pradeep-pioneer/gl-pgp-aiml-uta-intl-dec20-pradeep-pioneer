{
 "cells": [
  {
   "cell_type": "markdown",
   "metadata": {},
   "source": [
    "# Collections - Sets\n",
    "\n",
    "This notebook is the practice of concepts taught in [Collections of variables \\_list, tuple, set, dictionary-2](https://olympus.greatlearning.in/courses/29761/pages/collections-of-variables-list-tuple-set-dictionary-2?module_item_id=845448) lecture."
   ]
  },
  {
   "cell_type": "markdown",
   "metadata": {},
   "source": [
    "# Sets\n",
    "\n",
    "Sets in python are mutable, unordered, unidexed collection of objects and it doesn't allow duplicate values.\n",
    "- Mutable: Sets allow the values to be added, deleted or updated after the set has been created.\n",
    "- Unordered: The ordering of elements is not maintained.\n",
    "- Indexed: Because no ordering is maintained the sets are not indexed and hence don't allow random access.\n",
    "- Duplicate Values: Sets don't allow duplicate values and stores duplicate values as only one element."
   ]
  },
  {
   "cell_type": "code",
   "execution_count": 9,
   "metadata": {},
   "outputs": [
    {
     "name": "stdout",
     "output_type": "stream",
     "text": [
      "first_set {34, 66.0, 11, '2.1.0', 'Pradeep', 'tensorflow'}\n",
      "second_set {34, 66.0, 11, '2.1.0', 'Pradeep', 'tensorflow'}\n"
     ]
    }
   ],
   "source": [
    "# set creation\n",
    "first_set = {'Pradeep', 34, 66.0, 11, 'tensorflow', '2.1.0'}\n",
    "print('first_set', first_set)\n",
    "\n",
    "# duplicate values\n",
    "second_set = {'Pradeep', 34, 66.0, 11, 'tensorflow', '2.1.0', 'Pradeep'}\n",
    "print('second_set', second_set)"
   ]
  },
  {
   "cell_type": "markdown",
   "metadata": {},
   "source": [
    "## Items Check\n",
    "\n",
    "Existence of items in the list can be checked using the **in** keyword."
   ]
  },
  {
   "cell_type": "code",
   "execution_count": 4,
   "metadata": {},
   "outputs": [
    {
     "name": "stdout",
     "output_type": "stream",
     "text": [
      "Pradeep exists in the set\n",
      "Unknown does not exist in the set\n"
     ]
    }
   ],
   "source": [
    "if 'Pradeep' in first_set:\n",
    "    print('Pradeep exists in the set')\n",
    "if 'Unknown' in first_set:\n",
    "    print('Unknown exists in the set')\n",
    "else:\n",
    "    print('Unknown does not exist in the set')"
   ]
  },
  {
   "cell_type": "markdown",
   "metadata": {},
   "source": [
    "## Set initialization\n",
    "\n",
    "In python sets can be initialized using one of the below methods\n",
    "\n",
    "- using curly braces\n",
    "- using tuple constructor"
   ]
  },
  {
   "cell_type": "code",
   "execution_count": 5,
   "metadata": {},
   "outputs": [
    {
     "name": "stdout",
     "output_type": "stream",
     "text": [
      "curly_braces_set: {'four', 'one', 5, 6.0, 'three', 'seven', 'two'}\n",
      "contructor_from_list_set: {'four', 'one', 5, 6.0, 'three', 'seven', 'two'}\n",
      "contructor_from_tuple_set: {'four', 'one', 5, 6.0, 'three', 'seven', 'two'}\n"
     ]
    }
   ],
   "source": [
    "curly_braces_set = {'one', 'two', 'three', 'four', 5, 6.0, 'seven'}\n",
    "contructor_from_list_set = set(['one', 'two', 'three', 'four', 5, 6.0, 'seven'])\n",
    "contructor_from_tuple_set = set(('one', 'two', 'three', 'four', 5, 6.0, 'seven'))\n",
    "print('curly_braces_set:', curly_braces_set)\n",
    "print('contructor_from_list_set:', contructor_from_list_set)\n",
    "print('contructor_from_tuple_set:', contructor_from_tuple_set)"
   ]
  },
  {
   "cell_type": "markdown",
   "metadata": {},
   "source": [
    "## Simple Mutations\n",
    "\n",
    "In python sets can be mutated using the below operations:\n",
    "\n",
    "- add element to the end using **add** function on the set.\n",
    "- remove element using **remove** function from the set.\n",
    "- merge from another set using **update** function from the set.\n",
    "- merge from another list/tuple using **update** function from the set."
   ]
  },
  {
   "cell_type": "code",
   "execution_count": 8,
   "metadata": {},
   "outputs": [
    {
     "name": "stdout",
     "output_type": "stream",
     "text": [
      "odd_numbers_set: {1, 3, 5, 7, 9, 11}\n",
      "even_numbers_set: {2, 4, 6, 8, 10, 12}\n",
      "odd_numbers_set: {1, 3, 5, 7, 9, 11, 13}\n",
      "even_numbers_set: {2, 4, 6, 8, 10, 12, 14, 16}\n",
      "odd_numbers_set: {1, 3, 5, 7, 9, 11, 13, 15, 17}\n",
      "combined_numbers_set: {1, 2, 3, 4, 5, 6, 7, 8, 9, 10, 11, 12, 13, 14, 15, 16, 17}\n",
      "combined_numbers_set: {1, 2, 3, 4, 5, 6, 7, 8, 9, 10, 11, 12, 13, 14, 15, 16}\n"
     ]
    },
    {
     "ename": "KeyError",
     "evalue": "17",
     "output_type": "error",
     "traceback": [
      "\u001b[1;31m---------------------------------------------------------------------------\u001b[0m",
      "\u001b[1;31mKeyError\u001b[0m                                  Traceback (most recent call last)",
      "\u001b[1;32m<ipython-input-8-32cd0c2b0683>\u001b[0m in \u001b[0;36m<module>\u001b[1;34m\u001b[0m\n\u001b[0;32m     22\u001b[0m \u001b[0mprint\u001b[0m\u001b[1;33m(\u001b[0m\u001b[1;34m'combined_numbers_set:'\u001b[0m\u001b[1;33m,\u001b[0m \u001b[0mcombined_numbers_set\u001b[0m\u001b[1;33m)\u001b[0m\u001b[1;33m\u001b[0m\u001b[1;33m\u001b[0m\u001b[0m\n\u001b[0;32m     23\u001b[0m \u001b[1;33m\u001b[0m\u001b[0m\n\u001b[1;32m---> 24\u001b[1;33m \u001b[0mcombined_numbers_set\u001b[0m\u001b[1;33m.\u001b[0m\u001b[0mremove\u001b[0m\u001b[1;33m(\u001b[0m\u001b[1;36m17\u001b[0m\u001b[1;33m)\u001b[0m \u001b[1;31m# this will now raise an error\u001b[0m\u001b[1;33m\u001b[0m\u001b[1;33m\u001b[0m\u001b[0m\n\u001b[0m",
      "\u001b[1;31mKeyError\u001b[0m: 17"
     ]
    }
   ],
   "source": [
    "odd_numbers_set = {1,3,5,7,9,11}\n",
    "even_numbers_set = {2,4,6,8,10,12}\n",
    "print('odd_numbers_set:', odd_numbers_set)\n",
    "print('even_numbers_set:', even_numbers_set)\n",
    "\n",
    "# adding elements\n",
    "odd_numbers_set.add(13)\n",
    "print('odd_numbers_set:', odd_numbers_set)\n",
    "even_numbers_set.update([14, 16])\n",
    "print('even_numbers_set:', even_numbers_set)\n",
    "odd_numbers_set.update((15,17))\n",
    "print('odd_numbers_set:', odd_numbers_set)\n",
    "\n",
    "# combining 2 sets\n",
    "combined_numbers_set = set()\n",
    "combined_numbers_set.update(odd_numbers_set)\n",
    "combined_numbers_set.update(even_numbers_set)\n",
    "print('combined_numbers_set:', combined_numbers_set)\n",
    "\n",
    "# remove items from the set\n",
    "combined_numbers_set.remove(17)\n",
    "print('combined_numbers_set:', combined_numbers_set)\n",
    "\n",
    "combined_numbers_set.remove(17) # this will now raise an error"
   ]
  }
 ],
 "metadata": {
  "kernelspec": {
   "display_name": "GL-Python-3.7 (tensorflow)",
   "language": "python",
   "name": "gl-tensorflow"
  },
  "language_info": {
   "codemirror_mode": {
    "name": "ipython",
    "version": 3
   },
   "file_extension": ".py",
   "mimetype": "text/x-python",
   "name": "python",
   "nbconvert_exporter": "python",
   "pygments_lexer": "ipython3",
   "version": "3.7.9"
  }
 },
 "nbformat": 4,
 "nbformat_minor": 4
}
