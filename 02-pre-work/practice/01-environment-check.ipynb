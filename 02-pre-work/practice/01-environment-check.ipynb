{
 "cells": [
  {
   "cell_type": "markdown",
   "metadata": {},
   "source": [
    "# Environment Check\n",
    "\n",
    "This notebook helps in checking the python version along with other library versions. We also check the availability of the GPU"
   ]
  },
  {
   "cell_type": "code",
   "execution_count": null,
   "metadata": {},
   "outputs": [],
   "source": [
    "import tensorflow as tf\n",
    "import sys # for checking the version of python\n",
    "import tensorflow.keras\n",
    "import sklearn as sklearn\n",
    "import pandas as pandas\n",
    "print(\"Python Version:\", sys.version)\n",
    "print(\"Tensor Flow Version:\", tf.__version__)\n",
    "print(\"Keras Version:\", tensorflow.keras.__version__)\n",
    "print(\"SciKit Learn Version:\", sklearn.__version__)\n",
    "print(\"Pandas Version:\", pandas.__version__)\n",
    "gpus = tf.config.list_physical_devices('GPU')\n",
    "gpustatus=\"is available\" if len(gpus)>0 else \"NOT AVAILABLE\"\n",
    "print(\"GPU\", gpustatus)"
   ]
  }
 ],
 "metadata": {
  "kernelspec": {
   "display_name": "GL-Python-3.7 (tensorflow)",
   "language": "python",
   "name": "gl-tensorflow"
  },
  "language_info": {
   "codemirror_mode": {
    "name": "ipython",
    "version": 3
   },
   "file_extension": ".py",
   "mimetype": "text/x-python",
   "name": "python",
   "nbconvert_exporter": "python",
   "pygments_lexer": "ipython3",
   "version": "3.7.9"
  }
 },
 "nbformat": 4,
 "nbformat_minor": 4
}
