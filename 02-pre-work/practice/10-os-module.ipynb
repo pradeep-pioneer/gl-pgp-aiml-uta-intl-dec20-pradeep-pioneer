{
 "cells": [
  {
   "cell_type": "markdown",
   "metadata": {},
   "source": [
    "# OS Module\n",
    "\n",
    "OS module is a portable way of using operating system features and functions without the need to write OS specific code in python user modules. OS Module helps with support related to underlying operating system operations like:\n",
    "- working with files\n",
    "- performing shell/command line operations etc.\n",
    "- getting environment variables"
   ]
  },
  {
   "cell_type": "code",
   "execution_count": 8,
   "metadata": {},
   "outputs": [
    {
     "name": "stdout",
     "output_type": "stream",
     "text": [
      "operating system: nt\n",
      "directory:  E:\\Development\\ML\\pg-ai-ml\\gl-pgp-aiml-uta-intl-dec20-pradeep-pioneer\\02-pre-work\\practice\n",
      "found: .ipynb_checkpoints in E:\\Development\\ML\\pg-ai-ml\\gl-pgp-aiml-uta-intl-dec20-pradeep-pioneer\\02-pre-work\\practice\n",
      "found: 01-environment-check.ipynb in E:\\Development\\ML\\pg-ai-ml\\gl-pgp-aiml-uta-intl-dec20-pradeep-pioneer\\02-pre-work\\practice\n",
      "found: 02-variables.ipynb in E:\\Development\\ML\\pg-ai-ml\\gl-pgp-aiml-uta-intl-dec20-pradeep-pioneer\\02-pre-work\\practice\n",
      "found: 03-collections-lists.ipynb in E:\\Development\\ML\\pg-ai-ml\\gl-pgp-aiml-uta-intl-dec20-pradeep-pioneer\\02-pre-work\\practice\n",
      "found: 04-collections-tuples.ipynb in E:\\Development\\ML\\pg-ai-ml\\gl-pgp-aiml-uta-intl-dec20-pradeep-pioneer\\02-pre-work\\practice\n",
      "found: 05-collections-sets.ipynb in E:\\Development\\ML\\pg-ai-ml\\gl-pgp-aiml-uta-intl-dec20-pradeep-pioneer\\02-pre-work\\practice\n",
      "found: 06-collections-dictionaries.ipynb in E:\\Development\\ML\\pg-ai-ml\\gl-pgp-aiml-uta-intl-dec20-pradeep-pioneer\\02-pre-work\\practice\n",
      "found: 07-control-statements.ipynb in E:\\Development\\ML\\pg-ai-ml\\gl-pgp-aiml-uta-intl-dec20-pradeep-pioneer\\02-pre-work\\practice\n",
      "found: 08-functions-lambdas.ipynb in E:\\Development\\ML\\pg-ai-ml\\gl-pgp-aiml-uta-intl-dec20-pradeep-pioneer\\02-pre-work\\practice\n",
      "found: 09-OOP.ipynb in E:\\Development\\ML\\pg-ai-ml\\gl-pgp-aiml-uta-intl-dec20-pradeep-pioneer\\02-pre-work\\practice\n",
      "found: 10-os-module.ipynb in E:\\Development\\ML\\pg-ai-ml\\gl-pgp-aiml-uta-intl-dec20-pradeep-pioneer\\02-pre-work\\practice\n",
      "found: README.md in E:\\Development\\ML\\pg-ai-ml\\gl-pgp-aiml-uta-intl-dec20-pradeep-pioneer\\02-pre-work\\practice\n"
     ]
    }
   ],
   "source": [
    "import os\n",
    "print('operating system:', os.name)\n",
    "\n",
    "def list_current_dir():\n",
    "    current_dir = os.getcwd()\n",
    "    print('directory: ',current_dir)\n",
    "    for entry in os.listdir(current_dir):\n",
    "        print('found:', entry, 'in', current_dir)\n",
    "\n",
    "list_current_dir()"
   ]
  },
  {
   "cell_type": "code",
   "execution_count": 11,
   "metadata": {},
   "outputs": [
    {
     "name": "stdout",
     "output_type": "stream",
     "text": [
      "found: E:\\Development\\ML\\pg-ai-ml\\gl-pgp-aiml-uta-intl-dec20-pradeep-pioneer\\02-pre-work\\practice\\test_dir \n",
      "not creating it!\n",
      "directory:  E:\\Development\\ML\\pg-ai-ml\\gl-pgp-aiml-uta-intl-dec20-pradeep-pioneer\\02-pre-work\\practice\n",
      "found: .ipynb_checkpoints in E:\\Development\\ML\\pg-ai-ml\\gl-pgp-aiml-uta-intl-dec20-pradeep-pioneer\\02-pre-work\\practice\n",
      "found: 01-environment-check.ipynb in E:\\Development\\ML\\pg-ai-ml\\gl-pgp-aiml-uta-intl-dec20-pradeep-pioneer\\02-pre-work\\practice\n",
      "found: 02-variables.ipynb in E:\\Development\\ML\\pg-ai-ml\\gl-pgp-aiml-uta-intl-dec20-pradeep-pioneer\\02-pre-work\\practice\n",
      "found: 03-collections-lists.ipynb in E:\\Development\\ML\\pg-ai-ml\\gl-pgp-aiml-uta-intl-dec20-pradeep-pioneer\\02-pre-work\\practice\n",
      "found: 04-collections-tuples.ipynb in E:\\Development\\ML\\pg-ai-ml\\gl-pgp-aiml-uta-intl-dec20-pradeep-pioneer\\02-pre-work\\practice\n",
      "found: 05-collections-sets.ipynb in E:\\Development\\ML\\pg-ai-ml\\gl-pgp-aiml-uta-intl-dec20-pradeep-pioneer\\02-pre-work\\practice\n",
      "found: 06-collections-dictionaries.ipynb in E:\\Development\\ML\\pg-ai-ml\\gl-pgp-aiml-uta-intl-dec20-pradeep-pioneer\\02-pre-work\\practice\n",
      "found: 07-control-statements.ipynb in E:\\Development\\ML\\pg-ai-ml\\gl-pgp-aiml-uta-intl-dec20-pradeep-pioneer\\02-pre-work\\practice\n",
      "found: 08-functions-lambdas.ipynb in E:\\Development\\ML\\pg-ai-ml\\gl-pgp-aiml-uta-intl-dec20-pradeep-pioneer\\02-pre-work\\practice\n",
      "found: 09-OOP.ipynb in E:\\Development\\ML\\pg-ai-ml\\gl-pgp-aiml-uta-intl-dec20-pradeep-pioneer\\02-pre-work\\practice\n",
      "found: 10-os-module.ipynb in E:\\Development\\ML\\pg-ai-ml\\gl-pgp-aiml-uta-intl-dec20-pradeep-pioneer\\02-pre-work\\practice\n",
      "found: README.md in E:\\Development\\ML\\pg-ai-ml\\gl-pgp-aiml-uta-intl-dec20-pradeep-pioneer\\02-pre-work\\practice\n",
      "found: test_dir in E:\\Development\\ML\\pg-ai-ml\\gl-pgp-aiml-uta-intl-dec20-pradeep-pioneer\\02-pre-work\\practice\n"
     ]
    }
   ],
   "source": [
    "# not creating directories and files in the repo.\n",
    "expected_dir = os.path.join(current_dir,'test_dir')\n",
    "\n",
    "def mkdir_if_not_found(expected_dir):\n",
    "    if not os.path.isdir(expected_dir):\n",
    "        print('not found:', expected_dir, '\\ncreating it now...')\n",
    "        os.mkdir(expected_dir)\n",
    "        print('created:', expected_dir)\n",
    "    else:\n",
    "        print('found:', expected_dir, '\\nnot creating it!')\n",
    "\n",
    "mkdir_if_not_found(expected_dir)\n",
    "list_current_dir()"
   ]
  }
 ],
 "metadata": {
  "kernelspec": {
   "display_name": "GL-Python-3.7 (tensorflow)",
   "language": "python",
   "name": "gl-tensorflow"
  },
  "language_info": {
   "codemirror_mode": {
    "name": "ipython",
    "version": 3
   },
   "file_extension": ".py",
   "mimetype": "text/x-python",
   "name": "python",
   "nbconvert_exporter": "python",
   "pygments_lexer": "ipython3",
   "version": "3.7.9"
  }
 },
 "nbformat": 4,
 "nbformat_minor": 4
}
